{
 "cells": [
  {
   "cell_type": "markdown",
   "id": "8b0f6dd8",
   "metadata": {},
   "source": [
    "# Base stuff"
   ]
  },
  {
   "cell_type": "code",
   "execution_count": null,
   "id": "a7a1d7ec",
   "metadata": {
    "ExecuteTime": {
     "end_time": "2023-01-18T08:39:45.748491Z",
     "start_time": "2023-01-18T08:39:45.075632Z"
    }
   },
   "outputs": [],
   "source": [
    "import os\n",
    "import numpy as np\n",
    "import pandas as pd\n",
    "from sklearn.metrics import accuracy_score, precision_score, recall_score, hamming_loss, f1_score, ConfusionMatrixDisplay\n",
    "\n",
    "import time\n",
    "from tqdm.notebook import tqdm"
   ]
  },
  {
   "cell_type": "markdown",
   "id": "f016b175",
   "metadata": {
    "ExecuteTime": {
     "end_time": "2022-12-19T12:44:51.272612Z",
     "start_time": "2022-12-19T12:44:51.267764Z"
    },
    "code_folding": []
   },
   "source": [
    "# RecImpute Stuff"
   ]
  },
  {
   "cell_type": "code",
   "execution_count": null,
   "id": "ebf701a9",
   "metadata": {
    "ExecuteTime": {
     "end_time": "2023-01-18T08:39:45.770396Z",
     "start_time": "2023-01-18T08:39:45.750275Z"
    }
   },
   "outputs": [],
   "source": [
    "# Imports\n",
    "%cd ~/recimpute\n",
    "%load_ext autoreload\n",
    "%autoreload 2"
   ]
  },
  {
   "cell_type": "code",
   "execution_count": null,
   "id": "bb41789b",
   "metadata": {
    "ExecuteTime": {
     "end_time": "2023-01-18T08:39:47.762071Z",
     "start_time": "2023-01-18T08:39:45.771643Z"
    }
   },
   "outputs": [],
   "source": [
    "from Clustering.AbstractClustering import AbstractClustering\n",
    "from Clustering.ShapeBasedClustering import ShapeBasedClustering\n",
    "from Datasets.Dataset import Dataset\n",
    "from Datasets.TrainingSet import TrainingSet\n",
    "from Labeling.ImputationTechniques.ImputeBenchLabeler import ImputeBenchLabeler\n",
    "from Labeling import AbstractLabeler\n",
    "from FeaturesExtraction.TSFreshFeaturesExtractor import TSFreshFeaturesExtractor\n",
    "from FeaturesExtraction.KiviatFeaturesExtractor import KiviatFeaturesExtractor\n",
    "from FeaturesExtraction.KatsFeaturesExtractor import KatsFeaturesExtractor\n",
    "from FeaturesExtraction.Catch22FeaturesExtractor import Catch22FeaturesExtractor\n",
    "from FeaturesExtraction.TopologicalFeaturesExtractor import TopologicalFeaturesExtractor\n",
    "from Utils.Utils import Utils"
   ]
  },
  {
   "cell_type": "code",
   "execution_count": null,
   "id": "c8236a6c",
   "metadata": {
    "ExecuteTime": {
     "end_time": "2023-01-18T08:40:00.486894Z",
     "start_time": "2023-01-18T08:39:47.764902Z"
    }
   },
   "outputs": [],
   "source": [
    "# Init obj\n",
    "CLUSTERER = ShapeBasedClustering()\n",
    "DATASETS = Dataset.instantiate_from_dir(CLUSTERER)\n",
    "LABELER = ImputeBenchLabeler.get_instance()\n",
    "LABELER_PROPERTIES = LABELER.get_default_properties()\n",
    "FEATURES_EXTRACTORS_MAP = {'Topological': TopologicalFeaturesExtractor, 'Catch22': Catch22FeaturesExtractor}\n",
    "list_complete = ['lgbm', 'rf', 'catboost', 'xgb_limitdepth', 'lrl1', 'lrl2']\n",
    "FEATURES_EXTRACTORS = [fe.get_instance() for fe in FEATURES_EXTRACTORS_MAP.values()]\n",
    "TRUE_LABELER_INFO = {}\n",
    "\n",
    "training_set = TrainingSet(\n",
    "    DATASETS, \n",
    "    CLUSTERER, \n",
    "    FEATURES_EXTRACTORS, \n",
    "    LABELER, LABELER_PROPERTIES,\n",
    "    **TRUE_LABELER_INFO,\n",
    "    force_generation=False,\n",
    ")"
   ]
  },
  {
   "cell_type": "code",
   "execution_count": null,
   "id": "8c71a27c",
   "metadata": {
    "ExecuteTime": {
     "end_time": "2023-01-18T08:44:50.107172Z",
     "start_time": "2023-01-18T08:40:00.488690Z"
    }
   },
   "outputs": [],
   "source": [
    "# Load train and test data\n",
    "all_train_info, labels_set = training_set._load(data_to_load='train')\n",
    "all_test_info, _ = training_set._load(data_to_load='test')"
   ]
  },
  {
   "cell_type": "code",
   "execution_count": null,
   "id": "2709a8d1",
   "metadata": {
    "ExecuteTime": {
     "end_time": "2023-01-18T08:44:50.144740Z",
     "start_time": "2023-01-18T08:44:50.109112Z"
    }
   },
   "outputs": [],
   "source": [
    "# isolate train (next box = test) set features, i.e. remove non-feature info\n",
    "# 2nd value should be same as above minus 3\n",
    "train_features_df = all_train_info.iloc[:, ~all_train_info.columns.isin(['Data Set Name', 'Cluster ID', 'Label'])]"
   ]
  },
  {
   "cell_type": "code",
   "execution_count": null,
   "id": "bfb8aa50",
   "metadata": {
    "ExecuteTime": {
     "end_time": "2023-01-18T08:44:50.177038Z",
     "start_time": "2023-01-18T08:44:50.146364Z"
    }
   },
   "outputs": [],
   "source": [
    "test_features_df = all_test_info.iloc[:, ~all_test_info.columns.isin(['Data Set Name', 'Cluster ID', 'Label'])]"
   ]
  },
  {
   "cell_type": "markdown",
   "id": "1c021bdb",
   "metadata": {},
   "source": [
    "# Construct train/test"
   ]
  },
  {
   "cell_type": "code",
   "execution_count": null,
   "id": "8b0b57aa",
   "metadata": {
    "ExecuteTime": {
     "end_time": "2023-01-18T08:44:50.208356Z",
     "start_time": "2023-01-18T08:44:50.179443Z"
    }
   },
   "outputs": [],
   "source": [
    "#missing from all_list\n",
    "labels_set.append('trmf')\n",
    "\n",
    "#some classifiers can't handle strings as class names\n",
    "class_to_index = {labels_set[i] : i for i in range(0, len(labels_set))}\n",
    "def list_to_index(y_something):\n",
    "    return np.array([class_to_index[lbl] for lbl in y_something])\n",
    "\n",
    "def list_to_class(y_something):\n",
    "    return np.array([labels_set[lbl] for lbl in y_something])"
   ]
  },
  {
   "cell_type": "code",
   "execution_count": null,
   "id": "a60a9298",
   "metadata": {
    "ExecuteTime": {
     "end_time": "2023-01-18T08:44:51.225143Z",
     "start_time": "2023-01-18T08:44:50.209962Z"
    }
   },
   "outputs": [],
   "source": [
    "x_train, x_test = train_features_df.to_numpy(), test_features_df.to_numpy()\n",
    "y_train, y_test = list_to_index(all_train_info['Label'].to_numpy()), all_test_info['Label'].to_numpy()\n",
    "#[!] only y_train is using the conversion, not y_test\n",
    "x_test = np.array([np.array([x if np.isfinite(x) else 0.0 for x in line]) for line in x_test])"
   ]
  },
  {
   "cell_type": "markdown",
   "id": "d129d57e",
   "metadata": {},
   "source": [
    "# Model selection"
   ]
  },
  {
   "cell_type": "code",
   "execution_count": null,
   "id": "6900483f",
   "metadata": {
    "ExecuteTime": {
     "end_time": "2023-01-18T08:44:51.404337Z",
     "start_time": "2023-01-18T08:44:51.226780Z"
    }
   },
   "outputs": [],
   "source": [
    "# import\n",
    "from flaml import AutoML"
   ]
  },
  {
   "cell_type": "code",
   "execution_count": null,
   "id": "15b92c36",
   "metadata": {
    "ExecuteTime": {
     "end_time": "2023-01-18T12:55:23.945983Z",
     "start_time": "2023-01-18T11:14:59.243057Z"
    }
   },
   "outputs": [],
   "source": [
    "automl = AutoML()\n",
    "sufficient_time = 6025 #recommended budget\n",
    "automl.fit(x_train, y_train, task=\"classification\", estimator_list=list_complete, time_budget=sufficient_time)"
   ]
  },
  {
   "cell_type": "code",
   "execution_count": null,
   "id": "5687aa7c",
   "metadata": {
    "ExecuteTime": {
     "end_time": "2023-01-18T12:55:23.993617Z",
     "start_time": "2023-01-18T12:55:23.948673Z"
    }
   },
   "outputs": [],
   "source": [
    "# import and construct the best classifier from the output above\n",
    "classifier = automl.model\n",
    "classifier"
   ]
  },
  {
   "cell_type": "code",
   "execution_count": null,
   "id": "0b789500",
   "metadata": {
    "ExecuteTime": {
     "end_time": "2023-01-18T12:55:38.888418Z",
     "start_time": "2023-01-18T12:55:23.995575Z"
    }
   },
   "outputs": [],
   "source": [
    "# run whatever is constructed above, output should match the constructor in the last box \n",
    "classifier.fit(x_train, y_train)"
   ]
  },
  {
   "cell_type": "code",
   "execution_count": null,
   "id": "92532d4a",
   "metadata": {
    "ExecuteTime": {
     "end_time": "2023-01-18T12:55:39.132815Z",
     "start_time": "2023-01-18T12:55:38.891515Z"
    }
   },
   "outputs": [],
   "source": [
    "y_pred = list_to_class([x if np.isscalar(x) else x.item() for x in classifier.predict(x_test).astype('int32')])\n",
    "[y_test.shape, y_pred.shape]"
   ]
  },
  {
   "cell_type": "markdown",
   "id": "8b1663f6",
   "metadata": {},
   "source": [
    "# Evaluation"
   ]
  },
  {
   "cell_type": "code",
   "execution_count": null,
   "id": "14eeb3da",
   "metadata": {
    "ExecuteTime": {
     "end_time": "2023-01-18T12:55:39.167015Z",
     "start_time": "2023-01-18T12:55:39.134391Z"
    }
   },
   "outputs": [],
   "source": [
    "def eval_data(y_test_some, y_pred_some):\n",
    "    model_acc = accuracy_score(y_test_some, y_pred_some)\n",
    "    model_prec = precision_score(y_test_some, y_pred_some, average='weighted', zero_division=0)\n",
    "    model_recall = recall_score(y_test_some, y_pred_some, average='weighted', zero_division=0)\n",
    "    model_f1 = f1_score(y_test_some, y_pred_some, average='weighted', zero_division=0)\n",
    "    return [model_acc, model_prec, model_recall, model_f1]"
   ]
  },
  {
   "cell_type": "code",
   "execution_count": null,
   "id": "0bd1e6ae",
   "metadata": {
    "ExecuteTime": {
     "end_time": "2023-01-18T12:55:48.756226Z",
     "start_time": "2023-01-18T12:55:39.168696Z"
    }
   },
   "outputs": [],
   "source": [
    "# Per category\n",
    "all_categories = set(Dataset.CONF['CATEGORIES'].values())\n",
    "categories = ['Climate', 'Spectrogram Data', 'Power consumption', 'Discharge', 'Motion', 'Medical']\n",
    "index_dataset = test_features_df.shape[1] + 2\n",
    "all_scores = []\n",
    "\n",
    "for category in all_categories:\n",
    "    y_test_cat = []\n",
    "    y_pred_cat = []\n",
    "    for i in range(0, len(y_test)):\n",
    "        ds_name = all_test_info.iloc[i, index_dataset]\n",
    "        if Dataset.CONF['CATEGORIES'][ds_name] == category:\n",
    "            y_test_cat.append(y_test[i])\n",
    "            y_pred_cat.append(y_pred[i])\n",
    "    cat_scores = eval_data(y_test_cat, y_pred_cat)\n",
    "    if (category in categories): print((category, cat_scores))\n",
    "    all_scores.append(cat_scores)"
   ]
  },
  {
   "cell_type": "code",
   "execution_count": null,
   "id": "9a9d6ddf",
   "metadata": {
    "ExecuteTime": {
     "end_time": "2023-01-18T12:55:48.789470Z",
     "start_time": "2023-01-18T12:55:48.758167Z"
    }
   },
   "outputs": [],
   "source": [
    "#Global\n",
    "print(np.array(all_scores).mean(0))"
   ]
  },
  {
   "cell_type": "code",
   "execution_count": null,
   "id": "b6278c33",
   "metadata": {},
   "outputs": [],
   "source": []
  }
 ],
 "metadata": {
  "kernelspec": {
   "display_name": "Python 3 (ipykernel)",
   "language": "python",
   "name": "python3"
  },
  "language_info": {
   "codemirror_mode": {
    "name": "ipython",
    "version": 3
   },
   "file_extension": ".py",
   "mimetype": "text/x-python",
   "name": "python",
   "nbconvert_exporter": "python",
   "pygments_lexer": "ipython3",
   "version": "3.8.0"
  }
 },
 "nbformat": 4,
 "nbformat_minor": 5
}
