{
 "cells": [
  {
   "cell_type": "code",
   "execution_count": 11,
   "id": "190c7391",
   "metadata": {
    "ExecuteTime": {
     "end_time": "2022-04-30T14:09:12.130908Z",
     "start_time": "2022-04-30T14:09:12.093844Z"
    }
   },
   "outputs": [],
   "source": [
    "import logging, sys\n",
    "import matplotlib.pyplot as plt\n",
    "from multiprocessing import Pool\n",
    "import numpy as np\n",
    "import os\n",
    "import pandas as pd\n",
    "import pickle\n",
    "import re\n",
    "from sklearn.metrics import accuracy_score, precision_score, recall_score, hamming_loss, f1_score, ConfusionMatrixDisplay\n",
    "import subprocess\n",
    "from tqdm.notebook import tqdm"
   ]
  },
  {
   "cell_type": "code",
   "execution_count": 2,
   "id": "481acf58",
   "metadata": {
    "ExecuteTime": {
     "end_time": "2022-04-30T14:03:49.038262Z",
     "start_time": "2022-04-30T14:03:49.033843Z"
    }
   },
   "outputs": [
    {
     "name": "stdout",
     "output_type": "stream",
     "text": [
      "/home/guillaume/recimpute/Experiments/AutoFolio\n"
     ]
    }
   ],
   "source": [
    "cd AutoFolio"
   ]
  },
  {
   "cell_type": "code",
   "execution_count": 3,
   "id": "7cc8ed88",
   "metadata": {
    "ExecuteTime": {
     "end_time": "2022-04-30T14:03:49.378747Z",
     "start_time": "2022-04-30T14:03:49.039713Z"
    }
   },
   "outputs": [],
   "source": [
    "from autofolio.facade.af_csv_facade import AFCsvFacade\n",
    "from autofolio.autofolio import AutoFolio"
   ]
  },
  {
   "cell_type": "code",
   "execution_count": 4,
   "id": "eec2648c",
   "metadata": {
    "ExecuteTime": {
     "end_time": "2022-04-30T14:03:49.385089Z",
     "start_time": "2022-04-30T14:03:49.380995Z"
    }
   },
   "outputs": [
    {
     "name": "stdout",
     "output_type": "stream",
     "text": [
      "/home/guillaume/recimpute\n"
     ]
    }
   ],
   "source": [
    "cd ../../"
   ]
  },
  {
   "cell_type": "code",
   "execution_count": 5,
   "id": "7e358f7d",
   "metadata": {
    "ExecuteTime": {
     "end_time": "2022-04-30T14:03:52.886607Z",
     "start_time": "2022-04-30T14:03:51.329915Z"
    }
   },
   "outputs": [],
   "source": [
    "%load_ext autoreload\n",
    "%autoreload 2\n",
    "from Clustering.AbstractClustering import AbstractClustering\n",
    "from Clustering.ShapeBasedClustering import ShapeBasedClustering\n",
    "from Datasets.Dataset import Dataset\n",
    "from Datasets.TrainingSet import TrainingSet\n",
    "from Labeling.ImputationTechniques.ImputeBenchLabeler import ImputeBenchLabeler\n",
    "from Labeling import AbstractLabeler\n",
    "from FeaturesExtraction.TSFreshFeaturesExtractor import TSFreshFeaturesExtractor\n",
    "from FeaturesExtraction.KiviatFeaturesExtractor import KiviatFeaturesExtractor\n",
    "from FeaturesExtraction.KatsFeaturesExtractor import KatsFeaturesExtractor\n",
    "from FeaturesExtraction.Catch22FeaturesExtractor import Catch22FeaturesExtractor\n",
    "from FeaturesExtraction.TopologicalFeaturesExtractor import TopologicalFeaturesExtractor\n",
    "from Utils.Utils import Utils"
   ]
  },
  {
   "cell_type": "code",
   "execution_count": 13,
   "id": "f3870563",
   "metadata": {
    "ExecuteTime": {
     "end_time": "2022-04-30T14:10:27.074346Z",
     "start_time": "2022-04-30T14:10:27.037387Z"
    }
   },
   "outputs": [],
   "source": [
    "if not os.path.exists('Experiments/results'):\n",
    "    os.makedirs('Experiments/results')"
   ]
  },
  {
   "cell_type": "code",
   "execution_count": 6,
   "id": "1cb83944",
   "metadata": {
    "ExecuteTime": {
     "end_time": "2022-04-30T14:03:52.919093Z",
     "start_time": "2022-04-30T14:03:52.888904Z"
    }
   },
   "outputs": [
    {
     "data": {
      "text/plain": [
       "107"
      ]
     },
     "execution_count": 6,
     "metadata": {},
     "output_type": "execute_result"
    }
   ],
   "source": [
    "len(Dataset.CONF['USE_LIST'])"
   ]
  },
  {
   "cell_type": "code",
   "execution_count": 7,
   "id": "7908b8af",
   "metadata": {
    "ExecuteTime": {
     "end_time": "2022-04-30T14:04:05.235457Z",
     "start_time": "2022-04-30T14:03:52.927964Z"
    },
    "code_folding": [
     0
    ]
   },
   "outputs": [
    {
     "name": "stdout",
     "output_type": "stream",
     "text": [
      "Running clustering (if not done already).\n",
      "Clustering: 0.00 seconds\n",
      "Reserving a test set: 0.01 seconds\n",
      "Running labeling & features extraction (if not done already).\n",
      "Labeling & features extraction: 0.00 seconds\n"
     ]
    }
   ],
   "source": [
    "# init training and test sets\n",
    "#AbstractClustering.CLUSTERS_APPENDIX = '_cassignments.csv'\n",
    "#ShapeBasedClustering.CLUSTERS_FILENAMES_ID = '_sbc'\n",
    "#AbstractLabeler.LABELS_APPENDIX = '_labels.csv'\n",
    "#ImputeBenchLabeler.LABELS_FILENAMES_ID = '_ibl'\n",
    "#TSFreshFeaturesExtracter.FEATURES_FILENAMES_ID = '_tsfresh'\n",
    "\n",
    "CLUSTERER = ShapeBasedClustering()\n",
    "DATASETS = Dataset.instantiate_from_dir(CLUSTERER)\n",
    "LABELER = ImputeBenchLabeler.get_instance()\n",
    "LABELER_PROPERTIES = LABELER.get_default_properties()\n",
    "FEATURES_EXTRACTORS_MAP = { # maps the argument name to the actual class name\n",
    "    #'Kiviat': KiviatFeaturesExtractor, \n",
    "    'TSFresh': TSFreshFeaturesExtractor,\n",
    "    'Topological': TopologicalFeaturesExtractor,\n",
    "    'Catch22': Catch22FeaturesExtractor,\n",
    "    'Kats': KatsFeaturesExtractor,\n",
    "}\n",
    "FEATURES_EXTRACTORS = [fe.get_instance() for fe in FEATURES_EXTRACTORS_MAP.values()]\n",
    "TRUE_LABELER_INFO = {}\n",
    "\n",
    "training_set = TrainingSet(\n",
    "    DATASETS, \n",
    "    CLUSTERER, \n",
    "    FEATURES_EXTRACTORS, \n",
    "    LABELER, LABELER_PROPERTIES,\n",
    "    **TRUE_LABELER_INFO,\n",
    "    force_generation=False,\n",
    ")\n",
    "#training_set.CONF['TEST_SET_RESERVATION_STRAT'] = 'ts_percentage'\n",
    "#training_set.CONF['TEST_SIZE_PERCENTAGE'] = 0.2\n",
    "#training_set.CONF['USE_CUSTOM_SPLIT_METHOD'] = False"
   ]
  },
  {
   "cell_type": "markdown",
   "id": "06f9a124",
   "metadata": {},
   "source": [
    "## Preparing files"
   ]
  },
  {
   "cell_type": "code",
   "execution_count": 8,
   "id": "e759986a",
   "metadata": {
    "ExecuteTime": {
     "end_time": "2022-04-30T14:04:05.277013Z",
     "start_time": "2022-04-30T14:04:05.237804Z"
    }
   },
   "outputs": [],
   "source": [
    "f1_filename = 'perf.csv' # 'perf_toy.csv'\n",
    "f2_filename = 'features.csv' # 'feats_toy.csv'\n",
    "model_filename = 'autofolio_trained_mdl'\n",
    "\n",
    "perf_fn = 'Experiments/results/autofolio_%s' % f1_filename\n",
    "feat_fn = 'Experiments/results/autofolio_%s' % f2_filename\n",
    "model_fn = 'Experiments/results/autofolio_%s' % model_filename"
   ]
  },
  {
   "cell_type": "code",
   "execution_count": 10,
   "id": "9ead816d",
   "metadata": {
    "ExecuteTime": {
     "end_time": "2022-04-20T15:32:16.500562Z",
     "start_time": "2022-04-20T15:30:01.396707Z"
    }
   },
   "outputs": [],
   "source": [
    "all_train_info, _ = training_set._load(data_to_load='train')"
   ]
  },
  {
   "cell_type": "code",
   "execution_count": 11,
   "id": "8680f8bd",
   "metadata": {
    "ExecuteTime": {
     "end_time": "2022-04-20T15:32:16.605524Z",
     "start_time": "2022-04-20T15:32:16.501737Z"
    }
   },
   "outputs": [
    {
     "data": {
      "text/html": [
       "<div>\n",
       "<style scoped>\n",
       "    .dataframe tbody tr th:only-of-type {\n",
       "        vertical-align: middle;\n",
       "    }\n",
       "\n",
       "    .dataframe tbody tr th {\n",
       "        vertical-align: top;\n",
       "    }\n",
       "\n",
       "    .dataframe thead th {\n",
       "        text-align: right;\n",
       "    }\n",
       "</style>\n",
       "<table border=\"1\" class=\"dataframe\">\n",
       "  <thead>\n",
       "    <tr style=\"text-align: right;\">\n",
       "      <th></th>\n",
       "      <th>Label</th>\n",
       "      <th>Values__variance_larger_than_standard_deviation_tsfresh</th>\n",
       "      <th>Values__has_duplicate_max_tsfresh</th>\n",
       "      <th>Values__has_duplicate_min_tsfresh</th>\n",
       "      <th>Values__has_duplicate_tsfresh</th>\n",
       "      <th>Values__sum_values_tsfresh</th>\n",
       "      <th>Values__abs_energy_tsfresh</th>\n",
       "      <th>Values__mean_abs_change_tsfresh</th>\n",
       "      <th>Values__mean_change_tsfresh</th>\n",
       "      <th>Values__mean_second_derivative_central_tsfresh</th>\n",
       "      <th>...</th>\n",
       "      <th>diff1y_pacf5_kats</th>\n",
       "      <th>diff2y_pacf5_kats</th>\n",
       "      <th>seas_acf1_kats</th>\n",
       "      <th>seas_pacf1_kats</th>\n",
       "      <th>firstmin_ac_kats</th>\n",
       "      <th>firstzero_ac_kats</th>\n",
       "      <th>holt_alpha_kats</th>\n",
       "      <th>holt_beta_kats</th>\n",
       "      <th>Cluster ID</th>\n",
       "      <th>Data Set Name</th>\n",
       "    </tr>\n",
       "    <tr>\n",
       "      <th>New Time Series ID</th>\n",
       "      <th></th>\n",
       "      <th></th>\n",
       "      <th></th>\n",
       "      <th></th>\n",
       "      <th></th>\n",
       "      <th></th>\n",
       "      <th></th>\n",
       "      <th></th>\n",
       "      <th></th>\n",
       "      <th></th>\n",
       "      <th></th>\n",
       "      <th></th>\n",
       "      <th></th>\n",
       "      <th></th>\n",
       "      <th></th>\n",
       "      <th></th>\n",
       "      <th></th>\n",
       "      <th></th>\n",
       "      <th></th>\n",
       "      <th></th>\n",
       "      <th></th>\n",
       "    </tr>\n",
       "  </thead>\n",
       "  <tbody>\n",
       "    <tr>\n",
       "      <th>0</th>\n",
       "      <td>rosl</td>\n",
       "      <td>0.0</td>\n",
       "      <td>0.0</td>\n",
       "      <td>0.0</td>\n",
       "      <td>1.0</td>\n",
       "      <td>0.000000e+00</td>\n",
       "      <td>469.0</td>\n",
       "      <td>0.039177</td>\n",
       "      <td>-0.003795</td>\n",
       "      <td>0.000007</td>\n",
       "      <td>...</td>\n",
       "      <td>0.730759</td>\n",
       "      <td>0.141231</td>\n",
       "      <td>0.906554</td>\n",
       "      <td>0.001385</td>\n",
       "      <td>121</td>\n",
       "      <td>66</td>\n",
       "      <td>1.00000</td>\n",
       "      <td>0.714543</td>\n",
       "      <td>7935</td>\n",
       "      <td>Beef</td>\n",
       "    </tr>\n",
       "    <tr>\n",
       "      <th>1</th>\n",
       "      <td>svt</td>\n",
       "      <td>0.0</td>\n",
       "      <td>0.0</td>\n",
       "      <td>0.0</td>\n",
       "      <td>1.0</td>\n",
       "      <td>0.000000e+00</td>\n",
       "      <td>469.0</td>\n",
       "      <td>0.029620</td>\n",
       "      <td>0.000638</td>\n",
       "      <td>-0.000021</td>\n",
       "      <td>...</td>\n",
       "      <td>0.949076</td>\n",
       "      <td>0.264981</td>\n",
       "      <td>0.956766</td>\n",
       "      <td>-0.275313</td>\n",
       "      <td>79</td>\n",
       "      <td>49</td>\n",
       "      <td>1.00000</td>\n",
       "      <td>0.498895</td>\n",
       "      <td>7936</td>\n",
       "      <td>Beef</td>\n",
       "    </tr>\n",
       "    <tr>\n",
       "      <th>2</th>\n",
       "      <td>svt</td>\n",
       "      <td>0.0</td>\n",
       "      <td>0.0</td>\n",
       "      <td>0.0</td>\n",
       "      <td>0.0</td>\n",
       "      <td>-1.421085e-14</td>\n",
       "      <td>469.0</td>\n",
       "      <td>0.041692</td>\n",
       "      <td>-0.000424</td>\n",
       "      <td>-0.000013</td>\n",
       "      <td>...</td>\n",
       "      <td>0.958955</td>\n",
       "      <td>0.090892</td>\n",
       "      <td>0.900865</td>\n",
       "      <td>9.103534</td>\n",
       "      <td>65</td>\n",
       "      <td>54</td>\n",
       "      <td>0.98642</td>\n",
       "      <td>0.986420</td>\n",
       "      <td>7936</td>\n",
       "      <td>Beef</td>\n",
       "    </tr>\n",
       "  </tbody>\n",
       "</table>\n",
       "<p>3 rows × 435 columns</p>\n",
       "</div>"
      ],
      "text/plain": [
       "                   Label  \\\n",
       "New Time Series ID         \n",
       "0                   rosl   \n",
       "1                    svt   \n",
       "2                    svt   \n",
       "\n",
       "                    Values__variance_larger_than_standard_deviation_tsfresh  \\\n",
       "New Time Series ID                                                            \n",
       "0                                                                 0.0         \n",
       "1                                                                 0.0         \n",
       "2                                                                 0.0         \n",
       "\n",
       "                    Values__has_duplicate_max_tsfresh  \\\n",
       "New Time Series ID                                      \n",
       "0                                                 0.0   \n",
       "1                                                 0.0   \n",
       "2                                                 0.0   \n",
       "\n",
       "                    Values__has_duplicate_min_tsfresh  \\\n",
       "New Time Series ID                                      \n",
       "0                                                 0.0   \n",
       "1                                                 0.0   \n",
       "2                                                 0.0   \n",
       "\n",
       "                    Values__has_duplicate_tsfresh  Values__sum_values_tsfresh  \\\n",
       "New Time Series ID                                                              \n",
       "0                                             1.0                0.000000e+00   \n",
       "1                                             1.0                0.000000e+00   \n",
       "2                                             0.0               -1.421085e-14   \n",
       "\n",
       "                    Values__abs_energy_tsfresh  \\\n",
       "New Time Series ID                               \n",
       "0                                        469.0   \n",
       "1                                        469.0   \n",
       "2                                        469.0   \n",
       "\n",
       "                    Values__mean_abs_change_tsfresh  \\\n",
       "New Time Series ID                                    \n",
       "0                                          0.039177   \n",
       "1                                          0.029620   \n",
       "2                                          0.041692   \n",
       "\n",
       "                    Values__mean_change_tsfresh  \\\n",
       "New Time Series ID                                \n",
       "0                                     -0.003795   \n",
       "1                                      0.000638   \n",
       "2                                     -0.000424   \n",
       "\n",
       "                    Values__mean_second_derivative_central_tsfresh  ...  \\\n",
       "New Time Series ID                                                  ...   \n",
       "0                                                         0.000007  ...   \n",
       "1                                                        -0.000021  ...   \n",
       "2                                                        -0.000013  ...   \n",
       "\n",
       "                    diff1y_pacf5_kats  diff2y_pacf5_kats  seas_acf1_kats  \\\n",
       "New Time Series ID                                                         \n",
       "0                            0.730759           0.141231        0.906554   \n",
       "1                            0.949076           0.264981        0.956766   \n",
       "2                            0.958955           0.090892        0.900865   \n",
       "\n",
       "                    seas_pacf1_kats  firstmin_ac_kats  firstzero_ac_kats  \\\n",
       "New Time Series ID                                                         \n",
       "0                          0.001385               121                 66   \n",
       "1                         -0.275313                79                 49   \n",
       "2                          9.103534                65                 54   \n",
       "\n",
       "                    holt_alpha_kats  holt_beta_kats  Cluster ID  Data Set Name  \n",
       "New Time Series ID                                                              \n",
       "0                           1.00000        0.714543        7935           Beef  \n",
       "1                           1.00000        0.498895        7936           Beef  \n",
       "2                           0.98642        0.986420        7936           Beef  \n",
       "\n",
       "[3 rows x 435 columns]"
      ]
     },
     "execution_count": 11,
     "metadata": {},
     "output_type": "execute_result"
    }
   ],
   "source": [
    "all_train_info.head(3)"
   ]
  },
  {
   "cell_type": "code",
   "execution_count": 12,
   "id": "c4676db6",
   "metadata": {
    "ExecuteTime": {
     "end_time": "2022-04-20T15:32:16.831262Z",
     "start_time": "2022-04-20T15:32:16.606599Z"
    }
   },
   "outputs": [
    {
     "data": {
      "text/plain": [
       "(46071, 435)"
      ]
     },
     "execution_count": 12,
     "metadata": {},
     "output_type": "execute_result"
    }
   ],
   "source": [
    "all_train_info.shape"
   ]
  },
  {
   "cell_type": "code",
   "execution_count": 13,
   "id": "c8f1e6ad",
   "metadata": {
    "ExecuteTime": {
     "end_time": "2022-04-20T15:32:16.950014Z",
     "start_time": "2022-04-20T15:32:16.833151Z"
    },
    "code_folding": [
     0
    ]
   },
   "outputs": [],
   "source": [
    "def load_imputebench_results_per_cid(ds_name):\n",
    "    labels_filename = LABELER._get_labels_filename(ds_name)\n",
    "    all_benchmark_results = pd.read_csv(labels_filename, index_col='Cluster ID')\n",
    "\n",
    "    # get each cluster's label from their benchmark results\n",
    "    clusters_labels = []\n",
    "    for cid, bench_res in all_benchmark_results.iterrows(): # for each cluster\n",
    "        # convert bench_res to DataFrame\n",
    "        benchmark_results = LABELER._convert_bench_res_to_df(bench_res.values[0])\n",
    "        # get a ranked list of algorithms for this cluster (from best to worse)\n",
    "        ranking_strat = ImputeBenchLabeler.CONF['BENCH_RES_AGG_AND_RANK_STRATEGY']\n",
    "        ranked_algos_for_cid = LABELER._get_ranking_from_bench_res(\n",
    "            benchmark_results,\n",
    "            ranking_strat=ranking_strat,\n",
    "            ranking_strat_params=ImputeBenchLabeler.CONF['BENCH_RES_AGG_AND_RANK_STRATEGY_PARAMS'][ranking_strat],\n",
    "            error_to_minimize=ImputeBenchLabeler.CONF['BENCHMARK_ERROR_TO_MINIMIZE'],\n",
    "            algos_to_exclude=[],\n",
    "            return_scores=True\n",
    "        )\n",
    "        clusters_labels.append((cid, ranked_algos_for_cid))\n",
    "    clusters_labels_df = pd.DataFrame(clusters_labels, columns=['Cluster ID', 'ImputeBench Results'])\n",
    "    clusters_labels_df = clusters_labels_df.set_index('Cluster ID')\n",
    "    return clusters_labels_df"
   ]
  },
  {
   "cell_type": "code",
   "execution_count": 14,
   "id": "d91f8765",
   "metadata": {
    "ExecuteTime": {
     "end_time": "2022-04-20T15:34:12.129974Z",
     "start_time": "2022-04-20T15:32:16.951134Z"
    },
    "code_folding": [
     0
    ]
   },
   "outputs": [
    {
     "data": {
      "text/plain": [
       "(46071, 12)"
      ]
     },
     "execution_count": 14,
     "metadata": {},
     "output_type": "execute_result"
    }
   ],
   "source": [
    "# create the performance dataframe\n",
    "measured_metric = 'average rank' # 'weighted average rmse', 'average rmse'\n",
    "performance_data = []\n",
    "for ds_name in all_train_info['Data Set Name'].unique(): # for each dataset\n",
    "    all_bench_res = load_imputebench_results_per_cid(ds_name) # load the clusters impute bench results \n",
    "    for cid in all_bench_res.index: # for each cluster\n",
    "        rows = all_train_info[all_train_info['Cluster ID'] == cid]\n",
    "        for tid, row in rows.iterrows():\n",
    "            \n",
    "            performance_data.append({'New Time Series ID': tid})\n",
    "            performance_data[-1].update(\n",
    "                #*list(map(lambda t: t[1], sorted(all_bench_res.loc[cid, 'ImputeBench Results'].to_dict()['average rank'].items())))] \n",
    "                all_bench_res.loc[cid, 'ImputeBench Results'].to_dict()[measured_metric]\n",
    "            )\n",
    "performance_data_df = pd.DataFrame(\n",
    "    performance_data, \n",
    "    #columns=['New Time Series ID', *sorted(all_bench_res.loc[cid, 'ImputeBench Results'].to_dict()['average rank'].keys())]\n",
    ")\n",
    "performance_data_df = performance_data_df.set_index('New Time Series ID')\n",
    "performance_data_df = performance_data_df.sort_index()\n",
    "performance_data_df.shape"
   ]
  },
  {
   "cell_type": "code",
   "execution_count": 15,
   "id": "dce45eac",
   "metadata": {
    "ExecuteTime": {
     "end_time": "2022-04-20T15:34:12.155688Z",
     "start_time": "2022-04-20T15:34:12.131967Z"
    }
   },
   "outputs": [],
   "source": [
    "filling_val = len(performance_data_df.columns) if measured_metric == 'average rank' else np.inf\n",
    "performance_data_df.fillna(value=filling_val, inplace=True)"
   ]
  },
  {
   "cell_type": "code",
   "execution_count": 16,
   "id": "8edbd2af",
   "metadata": {
    "ExecuteTime": {
     "end_time": "2022-04-20T15:34:12.429318Z",
     "start_time": "2022-04-20T15:34:12.156729Z"
    }
   },
   "outputs": [
    {
     "data": {
      "text/html": [
       "<div>\n",
       "<style scoped>\n",
       "    .dataframe tbody tr th:only-of-type {\n",
       "        vertical-align: middle;\n",
       "    }\n",
       "\n",
       "    .dataframe tbody tr th {\n",
       "        vertical-align: top;\n",
       "    }\n",
       "\n",
       "    .dataframe thead th {\n",
       "        text-align: right;\n",
       "    }\n",
       "</style>\n",
       "<table border=\"1\" class=\"dataframe\">\n",
       "  <thead>\n",
       "    <tr style=\"text-align: right;\">\n",
       "      <th></th>\n",
       "      <th>rosl</th>\n",
       "      <th>svt</th>\n",
       "      <th>dynammo</th>\n",
       "      <th>svdimp</th>\n",
       "      <th>grouse</th>\n",
       "      <th>trmf</th>\n",
       "      <th>stmvl</th>\n",
       "      <th>cdrec</th>\n",
       "      <th>softimp</th>\n",
       "      <th>tenmf</th>\n",
       "      <th>spirit</th>\n",
       "      <th>tkcm</th>\n",
       "    </tr>\n",
       "    <tr>\n",
       "      <th>New Time Series ID</th>\n",
       "      <th></th>\n",
       "      <th></th>\n",
       "      <th></th>\n",
       "      <th></th>\n",
       "      <th></th>\n",
       "      <th></th>\n",
       "      <th></th>\n",
       "      <th></th>\n",
       "      <th></th>\n",
       "      <th></th>\n",
       "      <th></th>\n",
       "      <th></th>\n",
       "    </tr>\n",
       "  </thead>\n",
       "  <tbody>\n",
       "    <tr>\n",
       "      <th>0</th>\n",
       "      <td>1.75</td>\n",
       "      <td>3.25</td>\n",
       "      <td>3.50</td>\n",
       "      <td>5.0</td>\n",
       "      <td>6.25</td>\n",
       "      <td>6.5</td>\n",
       "      <td>6.5</td>\n",
       "      <td>7.00</td>\n",
       "      <td>7.25</td>\n",
       "      <td>9.25</td>\n",
       "      <td>12.0</td>\n",
       "      <td>12.0</td>\n",
       "    </tr>\n",
       "    <tr>\n",
       "      <th>1</th>\n",
       "      <td>5.75</td>\n",
       "      <td>1.50</td>\n",
       "      <td>4.25</td>\n",
       "      <td>5.0</td>\n",
       "      <td>10.25</td>\n",
       "      <td>4.0</td>\n",
       "      <td>8.0</td>\n",
       "      <td>3.75</td>\n",
       "      <td>4.25</td>\n",
       "      <td>10.00</td>\n",
       "      <td>12.0</td>\n",
       "      <td>12.0</td>\n",
       "    </tr>\n",
       "    <tr>\n",
       "      <th>2</th>\n",
       "      <td>5.75</td>\n",
       "      <td>1.50</td>\n",
       "      <td>4.25</td>\n",
       "      <td>5.0</td>\n",
       "      <td>10.25</td>\n",
       "      <td>4.0</td>\n",
       "      <td>8.0</td>\n",
       "      <td>3.75</td>\n",
       "      <td>4.25</td>\n",
       "      <td>10.00</td>\n",
       "      <td>12.0</td>\n",
       "      <td>12.0</td>\n",
       "    </tr>\n",
       "  </tbody>\n",
       "</table>\n",
       "</div>"
      ],
      "text/plain": [
       "                    rosl   svt  dynammo  svdimp  grouse  trmf  stmvl  cdrec  \\\n",
       "New Time Series ID                                                            \n",
       "0                   1.75  3.25     3.50     5.0    6.25   6.5    6.5   7.00   \n",
       "1                   5.75  1.50     4.25     5.0   10.25   4.0    8.0   3.75   \n",
       "2                   5.75  1.50     4.25     5.0   10.25   4.0    8.0   3.75   \n",
       "\n",
       "                    softimp  tenmf  spirit  tkcm  \n",
       "New Time Series ID                                \n",
       "0                      7.25   9.25    12.0  12.0  \n",
       "1                      4.25  10.00    12.0  12.0  \n",
       "2                      4.25  10.00    12.0  12.0  "
      ]
     },
     "execution_count": 16,
     "metadata": {},
     "output_type": "execute_result"
    }
   ],
   "source": [
    "performance_data_df.head(3)"
   ]
  },
  {
   "cell_type": "code",
   "execution_count": 17,
   "id": "20a0f769",
   "metadata": {
    "ExecuteTime": {
     "end_time": "2022-04-20T15:34:12.556495Z",
     "start_time": "2022-04-20T15:34:12.430390Z"
    }
   },
   "outputs": [
    {
     "data": {
      "text/plain": [
       "(46071, 12)"
      ]
     },
     "execution_count": 17,
     "metadata": {},
     "output_type": "execute_result"
    }
   ],
   "source": [
    "performance_data_df.shape"
   ]
  },
  {
   "cell_type": "code",
   "execution_count": 18,
   "id": "3878cb70",
   "metadata": {
    "ExecuteTime": {
     "end_time": "2022-04-20T15:34:12.860160Z",
     "start_time": "2022-04-20T15:34:12.558052Z"
    }
   },
   "outputs": [
    {
     "data": {
      "text/plain": [
       "(46070, 432)"
      ]
     },
     "execution_count": 18,
     "metadata": {},
     "output_type": "execute_result"
    }
   ],
   "source": [
    "features_df = all_train_info.iloc[:, ~all_train_info.columns.isin(['Data Set Name', 'Cluster ID', 'Label'])]\n",
    "with pd.option_context('mode.use_inf_as_na', True):\n",
    "    features_df = features_df.dropna()\n",
    "features_df.shape"
   ]
  },
  {
   "cell_type": "code",
   "execution_count": 19,
   "id": "79f5ca65",
   "metadata": {
    "ExecuteTime": {
     "end_time": "2022-04-20T15:34:12.897893Z",
     "start_time": "2022-04-20T15:34:12.861617Z"
    }
   },
   "outputs": [
    {
     "data": {
      "text/html": [
       "<div>\n",
       "<style scoped>\n",
       "    .dataframe tbody tr th:only-of-type {\n",
       "        vertical-align: middle;\n",
       "    }\n",
       "\n",
       "    .dataframe tbody tr th {\n",
       "        vertical-align: top;\n",
       "    }\n",
       "\n",
       "    .dataframe thead th {\n",
       "        text-align: right;\n",
       "    }\n",
       "</style>\n",
       "<table border=\"1\" class=\"dataframe\">\n",
       "  <thead>\n",
       "    <tr style=\"text-align: right;\">\n",
       "      <th></th>\n",
       "      <th>Values__variance_larger_than_standard_deviation_tsfresh</th>\n",
       "      <th>Values__has_duplicate_max_tsfresh</th>\n",
       "      <th>Values__has_duplicate_min_tsfresh</th>\n",
       "      <th>Values__has_duplicate_tsfresh</th>\n",
       "      <th>Values__sum_values_tsfresh</th>\n",
       "      <th>Values__abs_energy_tsfresh</th>\n",
       "      <th>Values__mean_abs_change_tsfresh</th>\n",
       "      <th>Values__mean_change_tsfresh</th>\n",
       "      <th>Values__mean_second_derivative_central_tsfresh</th>\n",
       "      <th>Values__median_tsfresh</th>\n",
       "      <th>...</th>\n",
       "      <th>diff2y_acf5_kats</th>\n",
       "      <th>y_pacf5_kats</th>\n",
       "      <th>diff1y_pacf5_kats</th>\n",
       "      <th>diff2y_pacf5_kats</th>\n",
       "      <th>seas_acf1_kats</th>\n",
       "      <th>seas_pacf1_kats</th>\n",
       "      <th>firstmin_ac_kats</th>\n",
       "      <th>firstzero_ac_kats</th>\n",
       "      <th>holt_alpha_kats</th>\n",
       "      <th>holt_beta_kats</th>\n",
       "    </tr>\n",
       "    <tr>\n",
       "      <th>New Time Series ID</th>\n",
       "      <th></th>\n",
       "      <th></th>\n",
       "      <th></th>\n",
       "      <th></th>\n",
       "      <th></th>\n",
       "      <th></th>\n",
       "      <th></th>\n",
       "      <th></th>\n",
       "      <th></th>\n",
       "      <th></th>\n",
       "      <th></th>\n",
       "      <th></th>\n",
       "      <th></th>\n",
       "      <th></th>\n",
       "      <th></th>\n",
       "      <th></th>\n",
       "      <th></th>\n",
       "      <th></th>\n",
       "      <th></th>\n",
       "      <th></th>\n",
       "      <th></th>\n",
       "    </tr>\n",
       "  </thead>\n",
       "  <tbody>\n",
       "    <tr>\n",
       "      <th>0</th>\n",
       "      <td>0.0</td>\n",
       "      <td>0.0</td>\n",
       "      <td>0.0</td>\n",
       "      <td>1.0</td>\n",
       "      <td>0.000000e+00</td>\n",
       "      <td>469.0</td>\n",
       "      <td>0.039177</td>\n",
       "      <td>-0.003795</td>\n",
       "      <td>0.000007</td>\n",
       "      <td>0.140019</td>\n",
       "      <td>...</td>\n",
       "      <td>0.153304</td>\n",
       "      <td>1.266116</td>\n",
       "      <td>0.730759</td>\n",
       "      <td>0.141231</td>\n",
       "      <td>0.906554</td>\n",
       "      <td>0.001385</td>\n",
       "      <td>121</td>\n",
       "      <td>66</td>\n",
       "      <td>1.00000</td>\n",
       "      <td>0.714543</td>\n",
       "    </tr>\n",
       "    <tr>\n",
       "      <th>1</th>\n",
       "      <td>0.0</td>\n",
       "      <td>0.0</td>\n",
       "      <td>0.0</td>\n",
       "      <td>1.0</td>\n",
       "      <td>0.000000e+00</td>\n",
       "      <td>469.0</td>\n",
       "      <td>0.029620</td>\n",
       "      <td>0.000638</td>\n",
       "      <td>-0.000021</td>\n",
       "      <td>0.280685</td>\n",
       "      <td>...</td>\n",
       "      <td>0.255598</td>\n",
       "      <td>59.352623</td>\n",
       "      <td>0.949076</td>\n",
       "      <td>0.264981</td>\n",
       "      <td>0.956766</td>\n",
       "      <td>-0.275313</td>\n",
       "      <td>79</td>\n",
       "      <td>49</td>\n",
       "      <td>1.00000</td>\n",
       "      <td>0.498895</td>\n",
       "    </tr>\n",
       "    <tr>\n",
       "      <th>2</th>\n",
       "      <td>0.0</td>\n",
       "      <td>0.0</td>\n",
       "      <td>0.0</td>\n",
       "      <td>0.0</td>\n",
       "      <td>-1.421085e-14</td>\n",
       "      <td>469.0</td>\n",
       "      <td>0.041692</td>\n",
       "      <td>-0.000424</td>\n",
       "      <td>-0.000013</td>\n",
       "      <td>0.230815</td>\n",
       "      <td>...</td>\n",
       "      <td>0.069298</td>\n",
       "      <td>17.670617</td>\n",
       "      <td>0.958955</td>\n",
       "      <td>0.090892</td>\n",
       "      <td>0.900865</td>\n",
       "      <td>9.103534</td>\n",
       "      <td>65</td>\n",
       "      <td>54</td>\n",
       "      <td>0.98642</td>\n",
       "      <td>0.986420</td>\n",
       "    </tr>\n",
       "  </tbody>\n",
       "</table>\n",
       "<p>3 rows × 432 columns</p>\n",
       "</div>"
      ],
      "text/plain": [
       "                    Values__variance_larger_than_standard_deviation_tsfresh  \\\n",
       "New Time Series ID                                                            \n",
       "0                                                                 0.0         \n",
       "1                                                                 0.0         \n",
       "2                                                                 0.0         \n",
       "\n",
       "                    Values__has_duplicate_max_tsfresh  \\\n",
       "New Time Series ID                                      \n",
       "0                                                 0.0   \n",
       "1                                                 0.0   \n",
       "2                                                 0.0   \n",
       "\n",
       "                    Values__has_duplicate_min_tsfresh  \\\n",
       "New Time Series ID                                      \n",
       "0                                                 0.0   \n",
       "1                                                 0.0   \n",
       "2                                                 0.0   \n",
       "\n",
       "                    Values__has_duplicate_tsfresh  Values__sum_values_tsfresh  \\\n",
       "New Time Series ID                                                              \n",
       "0                                             1.0                0.000000e+00   \n",
       "1                                             1.0                0.000000e+00   \n",
       "2                                             0.0               -1.421085e-14   \n",
       "\n",
       "                    Values__abs_energy_tsfresh  \\\n",
       "New Time Series ID                               \n",
       "0                                        469.0   \n",
       "1                                        469.0   \n",
       "2                                        469.0   \n",
       "\n",
       "                    Values__mean_abs_change_tsfresh  \\\n",
       "New Time Series ID                                    \n",
       "0                                          0.039177   \n",
       "1                                          0.029620   \n",
       "2                                          0.041692   \n",
       "\n",
       "                    Values__mean_change_tsfresh  \\\n",
       "New Time Series ID                                \n",
       "0                                     -0.003795   \n",
       "1                                      0.000638   \n",
       "2                                     -0.000424   \n",
       "\n",
       "                    Values__mean_second_derivative_central_tsfresh  \\\n",
       "New Time Series ID                                                   \n",
       "0                                                         0.000007   \n",
       "1                                                        -0.000021   \n",
       "2                                                        -0.000013   \n",
       "\n",
       "                    Values__median_tsfresh  ...  diff2y_acf5_kats  \\\n",
       "New Time Series ID                          ...                     \n",
       "0                                 0.140019  ...          0.153304   \n",
       "1                                 0.280685  ...          0.255598   \n",
       "2                                 0.230815  ...          0.069298   \n",
       "\n",
       "                    y_pacf5_kats  diff1y_pacf5_kats  diff2y_pacf5_kats  \\\n",
       "New Time Series ID                                                       \n",
       "0                       1.266116           0.730759           0.141231   \n",
       "1                      59.352623           0.949076           0.264981   \n",
       "2                      17.670617           0.958955           0.090892   \n",
       "\n",
       "                    seas_acf1_kats  seas_pacf1_kats  firstmin_ac_kats  \\\n",
       "New Time Series ID                                                      \n",
       "0                         0.906554         0.001385               121   \n",
       "1                         0.956766        -0.275313                79   \n",
       "2                         0.900865         9.103534                65   \n",
       "\n",
       "                    firstzero_ac_kats  holt_alpha_kats  holt_beta_kats  \n",
       "New Time Series ID                                                      \n",
       "0                                  66          1.00000        0.714543  \n",
       "1                                  49          1.00000        0.498895  \n",
       "2                                  54          0.98642        0.986420  \n",
       "\n",
       "[3 rows x 432 columns]"
      ]
     },
     "execution_count": 19,
     "metadata": {},
     "output_type": "execute_result"
    }
   ],
   "source": [
    "features_df.head(3)"
   ]
  },
  {
   "cell_type": "code",
   "execution_count": 20,
   "id": "027d4d66",
   "metadata": {
    "ExecuteTime": {
     "end_time": "2022-04-20T15:34:13.048039Z",
     "start_time": "2022-04-20T15:34:12.899014Z"
    }
   },
   "outputs": [],
   "source": [
    "# drop rows if they've been dropped in the features dataframe\n",
    "performance_data_df = performance_data_df.drop(performance_data_df.index.difference(features_df.index))"
   ]
  },
  {
   "cell_type": "code",
   "execution_count": 21,
   "id": "1427603d",
   "metadata": {
    "ExecuteTime": {
     "end_time": "2022-04-20T15:34:13.117084Z",
     "start_time": "2022-04-20T15:34:13.049092Z"
    }
   },
   "outputs": [
    {
     "name": "stdout",
     "output_type": "stream",
     "text": [
      "(46070, 12) (46070, 432)\n"
     ]
    }
   ],
   "source": [
    "assert performance_data_df.index.tolist() == features_df.index.tolist() # features_df.index.equals(performance_data_df)\n",
    "print(performance_data_df.shape, features_df.shape)"
   ]
  },
  {
   "cell_type": "code",
   "execution_count": 22,
   "id": "310d788f",
   "metadata": {
    "ExecuteTime": {
     "end_time": "2022-04-20T15:34:31.267300Z",
     "start_time": "2022-04-20T15:34:13.118618Z"
    }
   },
   "outputs": [],
   "source": [
    "performance_data_df.to_csv(perf_fn, index=True)\n",
    "features_df.to_csv(feat_fn, index=True)"
   ]
  },
  {
   "cell_type": "markdown",
   "id": "851de41f",
   "metadata": {},
   "source": [
    "## Training"
   ]
  },
  {
   "cell_type": "code",
   "execution_count": null,
   "id": "65c854f3",
   "metadata": {
    "ExecuteTime": {
     "end_time": "2022-04-20T15:39:37.610696Z",
     "start_time": "2022-04-20T15:34:31.268391Z"
    },
    "code_folding": [
     0
    ],
    "scrolled": true
   },
   "outputs": [],
   "source": [
    "# training\n",
    "af = AFCsvFacade(perf_fn=perf_fn, feat_fn=feat_fn, maximize=False)\n",
    "af.fit(save_fn=model_fn)"
   ]
  },
  {
   "cell_type": "markdown",
   "id": "da5bdc78",
   "metadata": {},
   "source": [
    "## Predicting"
   ]
  },
  {
   "cell_type": "code",
   "execution_count": 24,
   "id": "4da8b311",
   "metadata": {
    "ExecuteTime": {
     "end_time": "2022-04-20T15:41:36.033351Z",
     "start_time": "2022-04-20T15:39:37.611810Z"
    }
   },
   "outputs": [],
   "source": [
    "all_test_info, labels_set = training_set._load(data_to_load='test')"
   ]
  },
  {
   "cell_type": "code",
   "execution_count": 25,
   "id": "84252e79",
   "metadata": {
    "ExecuteTime": {
     "end_time": "2022-04-20T15:41:36.071147Z",
     "start_time": "2022-04-20T15:41:36.034566Z"
    }
   },
   "outputs": [
    {
     "data": {
      "text/html": [
       "<div>\n",
       "<style scoped>\n",
       "    .dataframe tbody tr th:only-of-type {\n",
       "        vertical-align: middle;\n",
       "    }\n",
       "\n",
       "    .dataframe tbody tr th {\n",
       "        vertical-align: top;\n",
       "    }\n",
       "\n",
       "    .dataframe thead th {\n",
       "        text-align: right;\n",
       "    }\n",
       "</style>\n",
       "<table border=\"1\" class=\"dataframe\">\n",
       "  <thead>\n",
       "    <tr style=\"text-align: right;\">\n",
       "      <th></th>\n",
       "      <th>Label</th>\n",
       "      <th>Values__variance_larger_than_standard_deviation_tsfresh</th>\n",
       "      <th>Values__has_duplicate_max_tsfresh</th>\n",
       "      <th>Values__has_duplicate_min_tsfresh</th>\n",
       "      <th>Values__has_duplicate_tsfresh</th>\n",
       "      <th>Values__sum_values_tsfresh</th>\n",
       "      <th>Values__abs_energy_tsfresh</th>\n",
       "      <th>Values__mean_abs_change_tsfresh</th>\n",
       "      <th>Values__mean_change_tsfresh</th>\n",
       "      <th>Values__mean_second_derivative_central_tsfresh</th>\n",
       "      <th>...</th>\n",
       "      <th>diff1y_pacf5_kats</th>\n",
       "      <th>diff2y_pacf5_kats</th>\n",
       "      <th>seas_acf1_kats</th>\n",
       "      <th>seas_pacf1_kats</th>\n",
       "      <th>firstmin_ac_kats</th>\n",
       "      <th>firstzero_ac_kats</th>\n",
       "      <th>holt_alpha_kats</th>\n",
       "      <th>holt_beta_kats</th>\n",
       "      <th>Cluster ID</th>\n",
       "      <th>Data Set Name</th>\n",
       "    </tr>\n",
       "    <tr>\n",
       "      <th>New Time Series ID</th>\n",
       "      <th></th>\n",
       "      <th></th>\n",
       "      <th></th>\n",
       "      <th></th>\n",
       "      <th></th>\n",
       "      <th></th>\n",
       "      <th></th>\n",
       "      <th></th>\n",
       "      <th></th>\n",
       "      <th></th>\n",
       "      <th></th>\n",
       "      <th></th>\n",
       "      <th></th>\n",
       "      <th></th>\n",
       "      <th></th>\n",
       "      <th></th>\n",
       "      <th></th>\n",
       "      <th></th>\n",
       "      <th></th>\n",
       "      <th></th>\n",
       "      <th></th>\n",
       "    </tr>\n",
       "  </thead>\n",
       "  <tbody>\n",
       "    <tr>\n",
       "      <th>4</th>\n",
       "      <td>svt</td>\n",
       "      <td>0.0</td>\n",
       "      <td>0.0</td>\n",
       "      <td>0.0</td>\n",
       "      <td>1.0</td>\n",
       "      <td>1.421085e-14</td>\n",
       "      <td>469.0</td>\n",
       "      <td>0.033913</td>\n",
       "      <td>0.000476</td>\n",
       "      <td>-0.000013</td>\n",
       "      <td>...</td>\n",
       "      <td>0.887415</td>\n",
       "      <td>0.174580</td>\n",
       "      <td>0.943467</td>\n",
       "      <td>-0.339190</td>\n",
       "      <td>71</td>\n",
       "      <td>48</td>\n",
       "      <td>0.987810</td>\n",
       "      <td>0.702963</td>\n",
       "      <td>7936</td>\n",
       "      <td>Beef</td>\n",
       "    </tr>\n",
       "    <tr>\n",
       "      <th>5</th>\n",
       "      <td>rosl</td>\n",
       "      <td>0.0</td>\n",
       "      <td>0.0</td>\n",
       "      <td>0.0</td>\n",
       "      <td>1.0</td>\n",
       "      <td>1.065814e-14</td>\n",
       "      <td>469.0</td>\n",
       "      <td>0.050366</td>\n",
       "      <td>-0.003035</td>\n",
       "      <td>-0.000018</td>\n",
       "      <td>...</td>\n",
       "      <td>0.669185</td>\n",
       "      <td>0.074165</td>\n",
       "      <td>0.864502</td>\n",
       "      <td>0.024287</td>\n",
       "      <td>77</td>\n",
       "      <td>60</td>\n",
       "      <td>1.000000</td>\n",
       "      <td>0.909902</td>\n",
       "      <td>7935</td>\n",
       "      <td>Beef</td>\n",
       "    </tr>\n",
       "    <tr>\n",
       "      <th>6</th>\n",
       "      <td>rosl</td>\n",
       "      <td>0.0</td>\n",
       "      <td>0.0</td>\n",
       "      <td>0.0</td>\n",
       "      <td>0.0</td>\n",
       "      <td>-1.065814e-14</td>\n",
       "      <td>469.0</td>\n",
       "      <td>0.040673</td>\n",
       "      <td>-0.003498</td>\n",
       "      <td>0.000010</td>\n",
       "      <td>...</td>\n",
       "      <td>0.680777</td>\n",
       "      <td>0.277669</td>\n",
       "      <td>0.897514</td>\n",
       "      <td>0.012862</td>\n",
       "      <td>120</td>\n",
       "      <td>65</td>\n",
       "      <td>0.935824</td>\n",
       "      <td>0.609989</td>\n",
       "      <td>7935</td>\n",
       "      <td>Beef</td>\n",
       "    </tr>\n",
       "  </tbody>\n",
       "</table>\n",
       "<p>3 rows × 435 columns</p>\n",
       "</div>"
      ],
      "text/plain": [
       "                   Label  \\\n",
       "New Time Series ID         \n",
       "4                    svt   \n",
       "5                   rosl   \n",
       "6                   rosl   \n",
       "\n",
       "                    Values__variance_larger_than_standard_deviation_tsfresh  \\\n",
       "New Time Series ID                                                            \n",
       "4                                                                 0.0         \n",
       "5                                                                 0.0         \n",
       "6                                                                 0.0         \n",
       "\n",
       "                    Values__has_duplicate_max_tsfresh  \\\n",
       "New Time Series ID                                      \n",
       "4                                                 0.0   \n",
       "5                                                 0.0   \n",
       "6                                                 0.0   \n",
       "\n",
       "                    Values__has_duplicate_min_tsfresh  \\\n",
       "New Time Series ID                                      \n",
       "4                                                 0.0   \n",
       "5                                                 0.0   \n",
       "6                                                 0.0   \n",
       "\n",
       "                    Values__has_duplicate_tsfresh  Values__sum_values_tsfresh  \\\n",
       "New Time Series ID                                                              \n",
       "4                                             1.0                1.421085e-14   \n",
       "5                                             1.0                1.065814e-14   \n",
       "6                                             0.0               -1.065814e-14   \n",
       "\n",
       "                    Values__abs_energy_tsfresh  \\\n",
       "New Time Series ID                               \n",
       "4                                        469.0   \n",
       "5                                        469.0   \n",
       "6                                        469.0   \n",
       "\n",
       "                    Values__mean_abs_change_tsfresh  \\\n",
       "New Time Series ID                                    \n",
       "4                                          0.033913   \n",
       "5                                          0.050366   \n",
       "6                                          0.040673   \n",
       "\n",
       "                    Values__mean_change_tsfresh  \\\n",
       "New Time Series ID                                \n",
       "4                                      0.000476   \n",
       "5                                     -0.003035   \n",
       "6                                     -0.003498   \n",
       "\n",
       "                    Values__mean_second_derivative_central_tsfresh  ...  \\\n",
       "New Time Series ID                                                  ...   \n",
       "4                                                        -0.000013  ...   \n",
       "5                                                        -0.000018  ...   \n",
       "6                                                         0.000010  ...   \n",
       "\n",
       "                    diff1y_pacf5_kats  diff2y_pacf5_kats  seas_acf1_kats  \\\n",
       "New Time Series ID                                                         \n",
       "4                            0.887415           0.174580        0.943467   \n",
       "5                            0.669185           0.074165        0.864502   \n",
       "6                            0.680777           0.277669        0.897514   \n",
       "\n",
       "                    seas_pacf1_kats  firstmin_ac_kats  firstzero_ac_kats  \\\n",
       "New Time Series ID                                                         \n",
       "4                         -0.339190                71                 48   \n",
       "5                          0.024287                77                 60   \n",
       "6                          0.012862               120                 65   \n",
       "\n",
       "                    holt_alpha_kats  holt_beta_kats  Cluster ID  Data Set Name  \n",
       "New Time Series ID                                                              \n",
       "4                          0.987810        0.702963        7936           Beef  \n",
       "5                          1.000000        0.909902        7935           Beef  \n",
       "6                          0.935824        0.609989        7935           Beef  \n",
       "\n",
       "[3 rows x 435 columns]"
      ]
     },
     "execution_count": 25,
     "metadata": {},
     "output_type": "execute_result"
    }
   ],
   "source": [
    "all_test_info.head(3)"
   ]
  },
  {
   "cell_type": "code",
   "execution_count": 26,
   "id": "0e48094e",
   "metadata": {
    "ExecuteTime": {
     "end_time": "2022-04-20T15:41:36.314357Z",
     "start_time": "2022-04-20T15:41:36.072115Z"
    }
   },
   "outputs": [
    {
     "data": {
      "text/plain": [
       "svt        5063\n",
       "trmf       4977\n",
       "stmvl      4910\n",
       "dynammo    3661\n",
       "tenmf      1871\n",
       "rosl       1047\n",
       "cdrec       987\n",
       "grouse      804\n",
       "softimp     537\n",
       "spirit      420\n",
       "tkcm        305\n",
       "svdimp      226\n",
       "Name: Label, dtype: int64"
      ]
     },
     "execution_count": 26,
     "metadata": {},
     "output_type": "execute_result"
    }
   ],
   "source": [
    "all_test_info['Label'].value_counts()"
   ]
  },
  {
   "cell_type": "code",
   "execution_count": 27,
   "id": "00446627",
   "metadata": {
    "ExecuteTime": {
     "end_time": "2022-04-20T15:41:36.459671Z",
     "start_time": "2022-04-20T15:41:36.315324Z"
    }
   },
   "outputs": [
    {
     "data": {
      "text/plain": [
       "(24808, 435)"
      ]
     },
     "execution_count": 27,
     "metadata": {},
     "output_type": "execute_result"
    }
   ],
   "source": [
    "all_test_info.shape"
   ]
  },
  {
   "cell_type": "code",
   "execution_count": null,
   "id": "9b89af3d",
   "metadata": {
    "ExecuteTime": {
     "end_time": "2022-04-20T17:25:15.098194Z",
     "start_time": "2022-04-20T15:41:36.584256Z"
    },
    "code_folding": [
     0
    ],
    "scrolled": true
   },
   "outputs": [],
   "source": [
    "# sequential predictions\n",
    "y_true, y_pred = [], []\n",
    "\n",
    "logging.disable(sys.maxsize)\n",
    "for _, row in tqdm(all_test_info.iterrows(), total=all_test_info.shape[0]):\n",
    "    feature_vec = row.iloc[~row.index.isin(['Data Set Name', 'Cluster ID', 'Label'])].to_numpy()\n",
    "    true_label = row['Label']\n",
    "    \n",
    "    # load AutoFolio model and\n",
    "    # get predictions for new meta-feature vector\n",
    "    pred_label = AFCsvFacade.load_and_predict(vec=feature_vec, load_fn=model_fn)\n",
    "\n",
    "    #print(pred_label)\n",
    "    \n",
    "    y_true.append(true_label)\n",
    "    y_pred.append(pred_label)"
   ]
  },
  {
   "cell_type": "code",
   "execution_count": 43,
   "id": "9f4b1928",
   "metadata": {
    "ExecuteTime": {
     "end_time": "2022-04-27T12:43:56.611287Z",
     "start_time": "2022-04-27T12:43:56.579233Z"
    }
   },
   "outputs": [],
   "source": [
    "categories = all_test_info['Data Set Name'].map(lambda ds_name: Dataset.CONF['CATEGORIES'][ds_name]).tolist()"
   ]
  },
  {
   "cell_type": "code",
   "execution_count": 30,
   "id": "8e53e754",
   "metadata": {
    "ExecuteTime": {
     "end_time": "2022-04-20T17:25:15.331149Z",
     "start_time": "2022-04-20T17:25:15.100041Z"
    }
   },
   "outputs": [],
   "source": [
    "np.save('Experiments/results/autofolio_y_true.npy', np.array(y_true))\n",
    "np.save('Experiments/results/autofolio_y_pred.npy', np.array(y_pred))\n",
    "np.save('Experiments/results/autofolio_categories.npy', np.array(categories))"
   ]
  },
  {
   "cell_type": "code",
   "execution_count": 31,
   "id": "3d02986e",
   "metadata": {
    "ExecuteTime": {
     "end_time": "2022-04-20T17:25:16.538619Z",
     "start_time": "2022-04-20T17:25:15.333131Z"
    }
   },
   "outputs": [],
   "source": [
    "average_strat = 'weighted'\n",
    "scores = {\n",
    "    'Accuracy': accuracy_score(y_true, y_pred, normalize=True, sample_weight=None), \n",
    "    'F1-Score': f1_score(y_true=y_true, y_pred=y_pred, average=average_strat, zero_division=0),\n",
    "    'Precision': precision_score(y_true=y_true, y_pred=y_pred, average=average_strat, zero_division=0).tolist(), \n",
    "    'Recall': recall_score(y_true=y_true, y_pred=y_pred, average=average_strat, zero_division=0).tolist(),\n",
    "    'Hamming Loss': hamming_loss(y_true, y_pred),\n",
    "}"
   ]
  },
  {
   "cell_type": "code",
   "execution_count": 32,
   "id": "0cb5420a",
   "metadata": {
    "ExecuteTime": {
     "end_time": "2022-04-20T17:25:18.213079Z",
     "start_time": "2022-04-20T17:25:16.541153Z"
    }
   },
   "outputs": [
    {
     "data": {
      "image/png": "[encoded data removed]",
      "text/plain": [
       "<Figure size 432x288 with 2 Axes>"
      ]
     },
     "metadata": {
      "needs_background": "light"
     },
     "output_type": "display_data"
    }
   ],
   "source": [
    "ConfusionMatrixDisplay.from_predictions(y_true=y_true, y_pred=y_pred, xticks_rotation=45)\n",
    "plt.show()"
   ]
  },
  {
   "cell_type": "code",
   "execution_count": 33,
   "id": "2efb0def",
   "metadata": {
    "ExecuteTime": {
     "end_time": "2022-04-20T17:25:18.308391Z",
     "start_time": "2022-04-20T17:25:18.216521Z"
    }
   },
   "outputs": [
    {
     "data": {
      "text/plain": [
       "{'Accuracy': 0.7328684295388584,\n",
       " 'F1-Score': 0.7233034204287266,\n",
       " 'Precision': 0.7320464661668236,\n",
       " 'Recall': 0.7328684295388584,\n",
       " 'Hamming Loss': 0.26713157046114155}"
      ]
     },
     "execution_count": 33,
     "metadata": {},
     "output_type": "execute_result"
    }
   ],
   "source": [
    "scores"
   ]
  },
  {
   "cell_type": "markdown",
   "id": "524f2811",
   "metadata": {},
   "source": [
    "### Per category"
   ]
  },
  {
   "cell_type": "code",
   "execution_count": 49,
   "id": "2bf9f375",
   "metadata": {
    "ExecuteTime": {
     "end_time": "2022-04-27T12:48:16.038738Z",
     "start_time": "2022-04-27T12:48:12.784102Z"
    }
   },
   "outputs": [
    {
     "name": "stdout",
     "output_type": "stream",
     "text": [
      "\n",
      "~~ Category: Biology ~~\n"
     ]
    },
    {
     "data": {
      "text/plain": [
       "{'Accuracy': 0.5435393258426966,\n",
       " 'F1-Score': 0.5296348204955863,\n",
       " 'Precision': 0.5224065098621112,\n",
       " 'Recall': 0.5435393258426966,\n",
       " 'Hamming Loss': 0.45646067415730335}"
      ]
     },
     "metadata": {},
     "output_type": "display_data"
    },
    {
     "data": {
      "image/png": "[encoded data removed]",
      "text/plain": [
       "<Figure size 432x288 with 2 Axes>"
      ]
     },
     "metadata": {
      "needs_background": "light"
     },
     "output_type": "display_data"
    },
    {
     "name": "stdout",
     "output_type": "stream",
     "text": [
      "\n",
      "~~ Category: Climate ~~\n"
     ]
    },
    {
     "data": {
      "text/plain": [
       "{'Accuracy': 0.8542435424354243,\n",
       " 'F1-Score': 0.8412880666969823,\n",
       " 'Precision': 0.859948824594025,\n",
       " 'Recall': 0.8542435424354243,\n",
       " 'Hamming Loss': 0.14575645756457564}"
      ]
     },
     "metadata": {},
     "output_type": "display_data"
    },
    {
     "data": {
      "image/png": "[encoded data removed]",
      "text/plain": [
       "<Figure size 432x288 with 2 Axes>"
      ]
     },
     "metadata": {
      "needs_background": "light"
     },
     "output_type": "display_data"
    },
    {
     "name": "stdout",
     "output_type": "stream",
     "text": [
      "\n",
      "~~ Category: Medical ~~\n"
     ]
    },
    {
     "data": {
      "text/plain": [
       "{'Accuracy': 0.9439160380452607,\n",
       " 'F1-Score': 0.9371346614437353,\n",
       " 'Precision': 0.9459766437800086,\n",
       " 'Recall': 0.9439160380452607,\n",
       " 'Hamming Loss': 0.05608396195473926}"
      ]
     },
     "metadata": {},
     "output_type": "display_data"
    },
    {
     "data": {
      "image/png": "[encoded data removed]",
      "text/plain": [
       "<Figure size 432x288 with 2 Axes>"
      ]
     },
     "metadata": {
      "needs_background": "light"
     },
     "output_type": "display_data"
    },
    {
     "name": "stdout",
     "output_type": "stream",
     "text": [
      "\n",
      "~~ Category: Motion ~~\n"
     ]
    },
    {
     "data": {
      "text/plain": [
       "{'Accuracy': 0.7321727485771677,\n",
       " 'F1-Score': 0.711768052605617,\n",
       " 'Precision': 0.7103253937517648,\n",
       " 'Recall': 0.7321727485771677,\n",
       " 'Hamming Loss': 0.26782725142283226}"
      ]
     },
     "metadata": {},
     "output_type": "display_data"
    },
    {
     "data": {
      "image/png": "[encoded data removed]",
      "text/plain": [
       "<Figure size 432x288 with 2 Axes>"
      ]
     },
     "metadata": {
      "needs_background": "light"
     },
     "output_type": "display_data"
    },
    {
     "name": "stdout",
     "output_type": "stream",
     "text": [
      "\n",
      "~~ Category: Other ~~\n"
     ]
    },
    {
     "data": {
      "text/plain": [
       "{'Accuracy': 0.7052866113024103,\n",
       " 'F1-Score': 0.6925791770671016,\n",
       " 'Precision': 0.7087378275502084,\n",
       " 'Recall': 0.7052866113024103,\n",
       " 'Hamming Loss': 0.2947133886975896}"
      ]
     },
     "metadata": {},
     "output_type": "display_data"
    },
    {
     "data": {
      "image/png": "[encoded data removed]",
      "text/plain": [
       "<Figure size 432x288 with 2 Axes>"
      ]
     },
     "metadata": {
      "needs_background": "light"
     },
     "output_type": "display_data"
    },
    {
     "name": "stdout",
     "output_type": "stream",
     "text": [
      "\n",
      "~~ Category: Power consumption ~~\n"
     ]
    },
    {
     "data": {
      "text/plain": [
       "{'Accuracy': 0.6757703081232493,\n",
       " 'F1-Score': 0.6340916319082684,\n",
       " 'Precision': 0.6368376989423161,\n",
       " 'Recall': 0.6757703081232493,\n",
       " 'Hamming Loss': 0.3242296918767507}"
      ]
     },
     "metadata": {},
     "output_type": "display_data"
    },
    {
     "data": {
      "image/png": "[encoded data removed]",
      "text/plain": [
       "<Figure size 432x288 with 2 Axes>"
      ]
     },
     "metadata": {
      "needs_background": "light"
     },
     "output_type": "display_data"
    },
    {
     "name": "stdout",
     "output_type": "stream",
     "text": [
      "\n",
      "~~ Category: Water discharge ~~\n"
     ]
    },
    {
     "data": {
      "text/plain": [
       "{'Accuracy': 0.2,\n",
       " 'F1-Score': 0.14,\n",
       " 'Precision': 0.12,\n",
       " 'Recall': 0.2,\n",
       " 'Hamming Loss': 0.8}"
      ]
     },
     "metadata": {},
     "output_type": "display_data"
    },
    {
     "data": {
      "image/png": "[encoded data removed]",
      "text/plain": [
       "<Figure size 432x288 with 2 Axes>"
      ]
     },
     "metadata": {
      "needs_background": "light"
     },
     "output_type": "display_data"
    }
   ],
   "source": [
    "for category in np.unique(categories):\n",
    "    ix = np.where(np.array(categories) == category)\n",
    "    y_true_per_category = np.array(y_true)[ix].tolist()\n",
    "    y_pred_per_category = np.array(y_pred)[ix].tolist()\n",
    "    average_strat = 'weighted'\n",
    "    scores_per_category = {\n",
    "        'Accuracy': accuracy_score(y_true_per_category, y_pred_per_category, normalize=True, sample_weight=None), \n",
    "        'F1-Score': f1_score(y_true=y_true_per_category, y_pred=y_pred_per_category, average=average_strat, zero_division=0),\n",
    "        'Precision': precision_score(y_true=y_true_per_category, y_pred=y_pred_per_category, average=average_strat, zero_division=0).tolist(), \n",
    "        'Recall': recall_score(y_true=y_true_per_category, y_pred=y_pred_per_category, average=average_strat, zero_division=0).tolist(),\n",
    "        'Hamming Loss': hamming_loss(y_true_per_category, y_pred_per_category),\n",
    "    }\n",
    "    \n",
    "    print('\\n~~ Category: %s ~~' % category)\n",
    "    display(scores_per_category)\n",
    "    \n",
    "    ConfusionMatrixDisplay.from_predictions(y_true=y_true_per_category, y_pred=y_pred_per_category, xticks_rotation=45)\n",
    "    plt.show()"
   ]
  },
  {
   "cell_type": "code",
   "execution_count": null,
   "id": "2d186bc9",
   "metadata": {},
   "outputs": [],
   "source": []
  }
 ],
 "metadata": {
  "kernelspec": {
   "display_name": "Python 3 (ipykernel)",
   "language": "python",
   "name": "python3"
  },
  "language_info": {
   "codemirror_mode": {
    "name": "ipython",
    "version": 3
   },
   "file_extension": ".py",
   "mimetype": "text/x-python",
   "name": "python",
   "nbconvert_exporter": "python",
   "pygments_lexer": "ipython3",
   "version": "3.8.0"
  },
  "toc": {
   "base_numbering": 1,
   "nav_menu": {},
   "number_sections": true,
   "sideBar": true,
   "skip_h1_title": false,
   "title_cell": "Table of Contents",
   "title_sidebar": "Contents",
   "toc_cell": false,
   "toc_position": {},
   "toc_section_display": true,
   "toc_window_display": false
  }
 },
 "nbformat": 4,
 "nbformat_minor": 5
}
