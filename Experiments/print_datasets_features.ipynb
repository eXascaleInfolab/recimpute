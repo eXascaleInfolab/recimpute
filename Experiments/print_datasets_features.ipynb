{
 "cells": [
  {
   "cell_type": "code",
   "execution_count": 1,
   "id": "5d9ed810",
   "metadata": {
    "ExecuteTime": {
     "end_time": "2022-04-30T14:46:18.480482Z",
     "start_time": "2022-04-30T14:46:17.855810Z"
    }
   },
   "outputs": [],
   "source": [
    "import numpy as np\n",
    "import pandas as pd"
   ]
  },
  {
   "cell_type": "code",
   "execution_count": 2,
   "id": "39128f04",
   "metadata": {
    "ExecuteTime": {
     "end_time": "2022-04-30T14:46:21.445843Z",
     "start_time": "2022-04-30T14:46:21.438600Z"
    }
   },
   "outputs": [
    {
     "name": "stdout",
     "output_type": "stream",
     "text": [
      "/home/guillaume/recimpute\n"
     ]
    }
   ],
   "source": [
    "cd ../"
   ]
  },
  {
   "cell_type": "code",
   "execution_count": 3,
   "id": "3be926b7",
   "metadata": {
    "ExecuteTime": {
     "end_time": "2022-04-30T14:46:29.728743Z",
     "start_time": "2022-04-30T14:46:23.295280Z"
    }
   },
   "outputs": [],
   "source": [
    "from recimpute import init_training_set\n",
    "from Datasets.Dataset import Dataset\n",
    "from FeaturesExtraction.TSFreshFeaturesExtractor import TSFreshFeaturesExtractor\n",
    "from FeaturesExtraction.TopologicalFeaturesExtractor import TopologicalFeaturesExtractor\n",
    "from FeaturesExtraction.Catch22FeaturesExtractor import Catch22FeaturesExtractor\n",
    "from FeaturesExtraction.KatsFeaturesExtractor import KatsFeaturesExtractor\n",
    "from Labeling.ImputationTechniques.ImputeBenchLabeler import ImputeBenchLabeler"
   ]
  },
  {
   "cell_type": "code",
   "execution_count": null,
   "id": "e438b527",
   "metadata": {
    "ExecuteTime": {
     "end_time": "2022-04-30T14:47:05.970063Z",
     "start_time": "2022-04-30T14:46:30.783511Z"
    }
   },
   "outputs": [],
   "source": [
    "labeler = ImputeBenchLabeler.get_instance()\n",
    "labeler_properties = labeler.get_default_properties()\n",
    "\n",
    "true_labeler = true_labeler_properties = None\n",
    "\n",
    "# set up the features extractors\n",
    "features_extractors = [\n",
    "    TSFreshFeaturesExtractor.get_instance(),\n",
    "    TopologicalFeaturesExtractor.get_instance(),\n",
    "    Catch22FeaturesExtractor.get_instance(),\n",
    "    KatsFeaturesExtractor.get_instance()\n",
    "]\n",
    "\n",
    "training_set = init_training_set(labeler, labeler_properties, true_labeler, true_labeler_properties, features_extractors)"
   ]
  },
  {
   "cell_type": "code",
   "execution_count": null,
   "id": "b32265c3",
   "metadata": {
    "ExecuteTime": {
     "end_time": "2022-04-30T14:53:08.047201Z",
     "start_time": "2022-04-30T14:50:42.206570Z"
    }
   },
   "outputs": [],
   "source": [
    "all_data_info, labels_set = training_set._load('all')"
   ]
  },
  {
   "cell_type": "code",
   "execution_count": null,
   "id": "eb5fea20",
   "metadata": {
    "ExecuteTime": {
     "end_time": "2022-04-30T14:50:30.140655Z",
     "start_time": "2022-04-30T14:50:30.140624Z"
    }
   },
   "outputs": [],
   "source": [
    "categories = all_data_info['Data Set Name'].map(lambda ds_name: Dataset.CONF['CATEGORIES'][ds_name]).tolist()\n",
    "all_data_info['Categories'] = categories"
   ]
  },
  {
   "cell_type": "code",
   "execution_count": null,
   "id": "60e51fd1",
   "metadata": {
    "ExecuteTime": {
     "end_time": "2022-04-30T14:50:30.142342Z",
     "start_time": "2022-04-30T14:50:30.142311Z"
    }
   },
   "outputs": [],
   "source": [
    "all_data_info.head(3)"
   ]
  },
  {
   "cell_type": "code",
   "execution_count": null,
   "id": "02e49977",
   "metadata": {
    "ExecuteTime": {
     "end_time": "2022-04-30T14:50:30.145230Z",
     "start_time": "2022-04-30T14:50:30.145196Z"
    }
   },
   "outputs": [],
   "source": [
    "features_df = all_data_info.iloc[:, ~all_data_info.columns.isin(['Cluster ID', 'Data Set Name', 'Label'])].groupby('Categories').mean()\n",
    "features_df"
   ]
  }
 ],
 "metadata": {
  "kernelspec": {
   "display_name": "Python 3 (ipykernel)",
   "language": "python",
   "name": "python3"
  },
  "language_info": {
   "codemirror_mode": {
    "name": "ipython",
    "version": 3
   },
   "file_extension": ".py",
   "mimetype": "text/x-python",
   "name": "python",
   "nbconvert_exporter": "python",
   "pygments_lexer": "ipython3",
   "version": "3.8.0"
  }
 },
 "nbformat": 4,
 "nbformat_minor": 5
}
