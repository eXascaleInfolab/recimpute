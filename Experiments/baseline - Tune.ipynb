{
 "cells": [
  {
   "cell_type": "markdown",
   "id": "ac9edf17",
   "metadata": {},
   "source": [
    "# Base stuff"
   ]
  },
  {
   "cell_type": "code",
   "execution_count": null,
   "id": "8b60e9e0",
   "metadata": {
    "ExecuteTime": {
     "end_time": "2022-12-19T12:49:15.549187Z",
     "start_time": "2022-12-19T12:49:15.527430Z"
    }
   },
   "outputs": [],
   "source": [
    "import os\n",
    "import numpy as np\n",
    "import pandas as pd\n",
    "from sklearn.metrics import accuracy_score, precision_score, recall_score, hamming_loss, f1_score, ConfusionMatrixDisplay\n",
    "\n",
    "import time\n",
    "from tqdm.notebook import tqdm"
   ]
  },
  {
   "cell_type": "markdown",
   "id": "9e96a0a8",
   "metadata": {
    "ExecuteTime": {
     "end_time": "2022-12-19T12:44:51.272612Z",
     "start_time": "2022-12-19T12:44:51.267764Z"
    },
    "code_folding": []
   },
   "source": [
    "# RecImpute Stuff"
   ]
  },
  {
   "cell_type": "code",
   "execution_count": null,
   "id": "7765c35a",
   "metadata": {
    "ExecuteTime": {
     "end_time": "2022-12-19T12:50:24.495704Z",
     "start_time": "2022-12-19T12:50:24.472145Z"
    }
   },
   "outputs": [],
   "source": [
    "# Imports\n",
    "%cd ~/recimpute\n",
    "%load_ext autoreload\n",
    "%autoreload 2"
   ]
  },
  {
   "cell_type": "code",
   "execution_count": null,
   "id": "4776acbe",
   "metadata": {
    "ExecuteTime": {
     "end_time": "2022-12-19T12:51:36.461767Z",
     "start_time": "2022-12-19T12:51:34.705152Z"
    }
   },
   "outputs": [],
   "source": [
    "from Clustering.AbstractClustering import AbstractClustering\n",
    "from Clustering.ShapeBasedClustering import ShapeBasedClustering\n",
    "from Datasets.Dataset import Dataset\n",
    "from Datasets.TrainingSet import TrainingSet\n",
    "from Labeling.ImputationTechniques.ImputeBenchLabeler import ImputeBenchLabeler\n",
    "from Labeling import AbstractLabeler\n",
    "from FeaturesExtraction.TSFreshFeaturesExtractor import TSFreshFeaturesExtractor\n",
    "from FeaturesExtraction.KiviatFeaturesExtractor import KiviatFeaturesExtractor\n",
    "from FeaturesExtraction.KatsFeaturesExtractor import KatsFeaturesExtractor\n",
    "from FeaturesExtraction.Catch22FeaturesExtractor import Catch22FeaturesExtractor\n",
    "from FeaturesExtraction.TopologicalFeaturesExtractor import TopologicalFeaturesExtractor\n",
    "from Utils.Utils import Utils"
   ]
  },
  {
   "cell_type": "code",
   "execution_count": null,
   "id": "f90670de",
   "metadata": {
    "ExecuteTime": {
     "end_time": "2022-12-19T12:51:50.919641Z",
     "start_time": "2022-12-19T12:51:37.857016Z"
    }
   },
   "outputs": [],
   "source": [
    "# Init obj\n",
    "CLUSTERER = ShapeBasedClustering()\n",
    "DATASETS = Dataset.instantiate_from_dir(CLUSTERER)\n",
    "LABELER = ImputeBenchLabeler.get_instance()\n",
    "LABELER_PROPERTIES = LABELER.get_default_properties()\n",
    "FEATURES_EXTRACTORS_MAP = {'Topological': TopologicalFeaturesExtractor, 'Catch22': Catch22FeaturesExtractor}\n",
    "\n",
    "FEATURES_EXTRACTORS = [fe.get_instance() for fe in FEATURES_EXTRACTORS_MAP.values()]\n",
    "TRUE_LABELER_INFO = {}\n",
    "\n",
    "training_set = TrainingSet(\n",
    "    DATASETS, \n",
    "    CLUSTERER, \n",
    "    FEATURES_EXTRACTORS, \n",
    "    LABELER, LABELER_PROPERTIES,\n",
    "    **TRUE_LABELER_INFO,\n",
    "    force_generation=False,\n",
    ")"
   ]
  },
  {
   "cell_type": "code",
   "execution_count": null,
   "id": "762bbccd",
   "metadata": {
    "ExecuteTime": {
     "end_time": "2022-12-19T13:06:54.955545Z",
     "start_time": "2022-12-19T13:01:29.055820Z"
    }
   },
   "outputs": [],
   "source": [
    "# Load train and test data\n",
    "all_train_info, labels_set = training_set._load(data_to_load='train')\n",
    "all_test_info, _ = training_set._load(data_to_load='test')"
   ]
  },
  {
   "cell_type": "code",
   "execution_count": null,
   "id": "0752acfc",
   "metadata": {
    "ExecuteTime": {
     "end_time": "2022-12-19T13:15:01.503543Z",
     "start_time": "2022-12-19T13:15:01.287074Z"
    }
   },
   "outputs": [],
   "source": [
    "# isolate train (next box = test) set features, i.e. remove non-feature info\n",
    "# 2nd value should be same as above minus 3\n",
    "train_features_df = all_train_info.iloc[:, ~all_train_info.columns.isin(['Data Set Name', 'Cluster ID', 'Label'])]\n",
    "train_set_df = all_train_info.iloc[:, ~all_train_info.columns.isin(['Data Set Name', 'Cluster ID'])]"
   ]
  },
  {
   "cell_type": "code",
   "execution_count": null,
   "id": "e2b0dc46",
   "metadata": {
    "ExecuteTime": {
     "end_time": "2022-12-19T13:15:19.268249Z",
     "start_time": "2022-12-19T13:15:19.127054Z"
    }
   },
   "outputs": [],
   "source": [
    "test_features_df = all_test_info.iloc[:, ~all_train_info.columns.isin(['Data Set Name', 'Cluster ID', 'Label'])]\n",
    "test_set_df = all_test_info.iloc[:, ~all_train_info.columns.isin(['Data Set Name', 'Cluster ID'])]"
   ]
  },
  {
   "cell_type": "markdown",
   "id": "aa1d3ebb",
   "metadata": {},
   "source": [
    "# Construct train/test"
   ]
  },
  {
   "cell_type": "code",
   "execution_count": null,
   "id": "e50e37d6",
   "metadata": {},
   "outputs": [],
   "source": [
    "#missing from all_list\n",
    "labels_set.append('trmf')\n",
    "\n",
    "#some classifiers can't handle strings as class names\n",
    "class_to_index = {labels_set[i] : i for i in range(0, len(labels_set))}\n",
    "index_to_class = {i : labels_set[i] for i in range(0, len(labels_set))}\n",
    "def list_to_index(y_something):\n",
    "    return np.array([class_to_index[lbl] for lbl in y_something])\n",
    "\n",
    "def list_to_class(y_something):\n",
    "    return np.array([labels_set[lbl] for lbl in y_something])"
   ]
  },
  {
   "cell_type": "code",
   "execution_count": null,
   "id": "7a0f587c",
   "metadata": {
    "ExecuteTime": {
     "end_time": "2022-12-19T13:19:54.357426Z",
     "start_time": "2022-12-19T13:19:54.242563Z"
    }
   },
   "outputs": [],
   "source": [
    "x_train, x_test = train_set_df.iloc[:, ~train_set_df.columns.isin(['Label'])].to_numpy(), test_set_df.iloc[:, ~test_set_df.columns.isin(['Label'])].to_numpy()\n",
    "y_train, y_test = all_train_info['Label'].to_numpy(), all_test_info['Label'].to_numpy()"
   ]
  },
  {
   "cell_type": "markdown",
   "id": "443eef31",
   "metadata": {},
   "source": [
    "# Model selection"
   ]
  },
  {
   "cell_type": "code",
   "execution_count": null,
   "id": "8aab33c2",
   "metadata": {
    "ExecuteTime": {
     "end_time": "2022-12-19T15:36:09.686895Z",
     "start_time": "2022-12-19T15:36:09.652128Z"
    }
   },
   "outputs": [],
   "source": [
    "import ray\n",
    "from ray import tune\n",
    "from ray.air.config import ScalingConfig\n",
    "from ray.train.xgboost import XGBoostTrainer\n",
    "from ray.tune.schedulers import ASHAScheduler\n",
    "from ray.tune.tuner import Tuner, TuneConfig\n",
    "\n",
    "import xgboost as xgb"
   ]
  },
  {
   "cell_type": "code",
   "execution_count": null,
   "id": "718405df",
   "metadata": {
    "ExecuteTime": {
     "end_time": "2022-12-19T15:36:09.686895Z",
     "start_time": "2022-12-19T15:36:09.652128Z"
    }
   },
   "outputs": [],
   "source": [
    "# Extra pre-process\n",
    "train_set_df.loc[:, 'Label'] = train_set_df.loc[:, 'Label'].map(class_to_index)\n",
    "train_set_df['Label']"
   ]
  },
  {
   "cell_type": "code",
   "execution_count": null,
   "id": "10024d7c",
   "metadata": {
    "ExecuteTime": {
     "end_time": "2022-12-19T15:36:09.686895Z",
     "start_time": "2022-12-19T15:36:09.652128Z"
    }
   },
   "outputs": [],
   "source": [
    "# Configure base class\n",
    "trainer = XGBoostTrainer(\n",
    "    scaling_config=ScalingConfig(\n",
    "        num_workers=2,\n",
    "        use_gpu=False,\n",
    "    ),\n",
    "    label_column='Label',\n",
    "    num_boost_round=20,\n",
    "    params={\n",
    "        # XGBoost specific params\n",
    "        \"objective\": \"multi:softmax\",\n",
    "        \"num_class\" : len(labels_set),\n",
    "        \"eval_metric\": [\"mlogloss\"],#, \"error\"],\n",
    "    },\n",
    "    datasets={\"train\": ray.data.from_pandas(train_set_df)},\n",
    ")\n",
    "\n",
    "# Configure Tune\n",
    "param_space = {\n",
    "    \"params\":{\n",
    "        \"max_depth\": tune.randint(4, 9),\n",
    "        \"learning_rate\": tune.uniform(0.1, 0.9),\n",
    "        \"objective\": \"multi:softmax\",\n",
    "        \"num_class\" : len(labels_set),\n",
    "        \"eval_metric\": [\"mlogloss\"]\n",
    "    }\n",
    "}\n",
    "metric = \"train-mlogloss\"\n",
    "server_cpu = 9 #leave 20%\n",
    "\n",
    "asha_scheduler = ASHAScheduler(\n",
    "    time_attr='training_iteration',\n",
    "    max_t=100,\n",
    "    grace_period=10,\n",
    "    reduction_factor=3,\n",
    "    brackets=1)\n",
    "\n",
    "tuner = Tuner(\n",
    "    trainer,\n",
    "    param_space=param_space,\n",
    "    tune_config=TuneConfig(num_samples=server_cpu, metric=metric, mode=\"min\"),\n",
    ")"
   ]
  },
  {
   "cell_type": "code",
   "execution_count": null,
   "id": "6e4065d0",
   "metadata": {},
   "outputs": [],
   "source": [
    "result_grid = tuner.fit()\n",
    "best_result = result_grid.get_best_result()"
   ]
  },
  {
   "cell_type": "code",
   "execution_count": null,
   "id": "f068ab90",
   "metadata": {},
   "outputs": [],
   "source": [
    "# result\n",
    "print(\"Best result:\", best_result)\n",
    "best_result.config"
   ]
  },
  {
   "cell_type": "code",
   "execution_count": null,
   "id": "ffb8a3a2",
   "metadata": {},
   "outputs": [],
   "source": [
    "xgb_params = param_space['params']\n",
    "xgb_params['max_depth'] = best_result.config['params']['max_depth']\n",
    "xgb_params['learning_rate'] = best_result.config['params']['learning_rate']\n",
    "\n",
    "dtrain = xgb.DMatrix(x_train, label=list_to_index(y_train))\n",
    "dtest = xgb.DMatrix(x_test, missing=np.inf)\n",
    "bst = xgb.train(xgb_params, dtrain, 20)\n",
    "print('done')"
   ]
  },
  {
   "cell_type": "code",
   "execution_count": null,
   "id": "bdf95de7",
   "metadata": {},
   "outputs": [],
   "source": [
    "y_pred = list_to_class(bst.predict(dtest).astype('int32'))# list_to_class()\n",
    "[y_test.shape, y_pred.shape]"
   ]
  },
  {
   "cell_type": "markdown",
   "id": "b39052d3",
   "metadata": {
    "ExecuteTime": {
     "end_time": "2022-12-19T15:36:00.081472Z",
     "start_time": "2022-12-19T15:36:00.045327Z"
    }
   },
   "source": [
    "\n",
    "# Evaluation"
   ]
  },
  {
   "cell_type": "code",
   "execution_count": null,
   "id": "1c71224b",
   "metadata": {
    "ExecuteTime": {
     "end_time": "2022-12-19T15:36:18.529555Z",
     "start_time": "2022-12-19T15:36:18.460178Z"
    }
   },
   "outputs": [],
   "source": [
    "def eval_data(y_test_some, y_pred_some):\n",
    "    model_acc = accuracy_score(y_test_some, y_pred_some)\n",
    "    model_prec = precision_score(y_test_some, y_pred_some, average='weighted', zero_division=0)\n",
    "    model_recall = recall_score(y_test_some, y_pred_some, average='weighted', zero_division=0)\n",
    "    model_f1 = f1_score(y_test_some, y_pred_some, average='weighted', zero_division=0)\n",
    "    return [model_acc, model_prec, model_recall, model_f1]"
   ]
  },
  {
   "cell_type": "code",
   "execution_count": null,
   "id": "c91568a7",
   "metadata": {},
   "outputs": [],
   "source": [
    "# Per category\n",
    "all_categories = set(Dataset.CONF['CATEGORIES'].values())\n",
    "categories = ['Climate', 'Spectrogram Data', 'Power consumption', 'Water discharge', 'Motion', 'Medical']\n",
    "index_dataset = test_features_df.shape[1] + 2\n",
    "all_scores = []\n",
    "\n",
    "for category in all_categories:\n",
    "    y_test_cat = []\n",
    "    y_pred_cat = []\n",
    "    for i in range(0, len(y_test)):\n",
    "        ds_name = all_test_info.iloc[i, index_dataset]\n",
    "        if Dataset.CONF['CATEGORIES'][ds_name] == category:\n",
    "            y_test_cat.append(y_test[i])\n",
    "            y_pred_cat.append(y_pred[i])\n",
    "    cat_scores = eval_data(y_test_cat, y_pred_cat)\n",
    "    if (category in categories): print((category, cat_scores))\n",
    "    all_scores.append(cat_scores)"
   ]
  },
  {
   "cell_type": "code",
   "execution_count": null,
   "id": "73c517f2",
   "metadata": {},
   "outputs": [],
   "source": [
    "#Global\n",
    "print(np.array(all_scores).mean(0))"
   ]
  },
  {
   "cell_type": "code",
   "execution_count": null,
   "id": "82a137c3",
   "metadata": {},
   "outputs": [],
   "source": []
  }
 ],
 "metadata": {
  "kernelspec": {
   "display_name": "Python 3 (ipykernel)",
   "language": "python",
   "name": "python3"
  },
  "language_info": {
   "codemirror_mode": {
    "name": "ipython",
    "version": 3
   },
   "file_extension": ".py",
   "mimetype": "text/x-python",
   "name": "python",
   "nbconvert_exporter": "python",
   "pygments_lexer": "ipython3",
   "version": "3.8.0"
  }
 },
 "nbformat": 4,
 "nbformat_minor": 5
}
