{
 "cells": [
  {
   "cell_type": "code",
   "execution_count": 1,
   "id": "1c979586",
   "metadata": {
    "ExecuteTime": {
     "end_time": "2022-04-30T13:56:42.298886Z",
     "start_time": "2022-04-30T13:56:41.347896Z"
    }
   },
   "outputs": [],
   "source": [
    "from IPython.display import display, HTML\n",
    "import itertools\n",
    "import math\n",
    "import matplotlib.cm as cm\n",
    "import matplotlib.pyplot as plt\n",
    "import numpy as np\n",
    "import os\n",
    "import pandas as pd\n",
    "import seaborn as sns\n",
    "from sklearn.linear_model import LinearRegression\n",
    "from sklearn.metrics import accuracy_score, precision_score, recall_score, f1_score, ConfusionMatrixDisplay\n",
    "from time import perf_counter\n",
    "from tqdm.notebook import tqdm"
   ]
  },
  {
   "cell_type": "code",
   "execution_count": 2,
   "id": "09b2f222",
   "metadata": {
    "ExecuteTime": {
     "end_time": "2022-04-30T13:56:42.826911Z",
     "start_time": "2022-04-30T13:56:42.819528Z"
    }
   },
   "outputs": [
    {
     "name": "stdout",
     "output_type": "stream",
     "text": [
      "/home/guillaume/recimpute\n"
     ]
    }
   ],
   "source": [
    "cd ../"
   ]
  },
  {
   "cell_type": "code",
   "execution_count": 3,
   "id": "d8e17a91",
   "metadata": {
    "ExecuteTime": {
     "end_time": "2022-04-30T13:56:43.903664Z",
     "start_time": "2022-04-30T13:56:43.811392Z"
    }
   },
   "outputs": [],
   "source": [
    "%load_ext autoreload\n",
    "%autoreload 2\n",
    "from Clustering.ShapeBasedClustering import ShapeBasedClustering\n",
    "from Datasets.Dataset import Dataset\n",
    "from Labeling.ImputationTechniques.ImputeBenchLabeler import ImputeBenchLabeler"
   ]
  },
  {
   "cell_type": "code",
   "execution_count": null,
   "id": "3a1311e3",
   "metadata": {},
   "outputs": [],
   "source": [
    "if not os.path.exists('Experiments/results'):\n",
    "    os.makedirs('Experiments/results')"
   ]
  },
  {
   "cell_type": "markdown",
   "id": "7e40de79",
   "metadata": {},
   "source": [
    "## Generate pipelines"
   ]
  },
  {
   "cell_type": "code",
   "execution_count": 4,
   "id": "9ff4807c",
   "metadata": {
    "ExecuteTime": {
     "end_time": "2022-04-30T13:42:57.488738Z",
     "start_time": "2022-04-30T13:42:57.465338Z"
    },
    "code_folding": [
     0
    ]
   },
   "outputs": [],
   "source": [
    "class Pipeline():\n",
    "    def __init__(self, method_name, params_dict, main_param_key):\n",
    "        self.method_name = method_name\n",
    "        self.params_dict = params_dict\n",
    "        self.main_param_key = main_param_key\n",
    "    def get_algx(self):\n",
    "        return '-algx', self.method_name, str(self.params_dict[self.main_param_key])\n",
    "    def get_alg(self):\n",
    "        return '-alg', self.method_name\n",
    "    def get_id(self):\n",
    "        return '%s_%s' % (\n",
    "            pipeline.method_name, \n",
    "            '_'.join('%s_%s' % (k.replace(' ', ''),str(v)) for k,v in pipeline.params_dict.items())\n",
    "        )\n",
    "    def __str__(self):\n",
    "        return '%s: %s' % (self.method_name, str(self.params_dict))"
   ]
  },
  {
   "cell_type": "code",
   "execution_count": 5,
   "id": "685d3b79",
   "metadata": {
    "ExecuteTime": {
     "end_time": "2022-04-30T13:42:57.918592Z",
     "start_time": "2022-04-30T13:42:57.896462Z"
    }
   },
   "outputs": [],
   "source": [
    "PIPELINES = [\n",
    "    \n",
    "    Pipeline('cdrec', {'reduction': 4}, 'reduction'),\n",
    "    # Pipeline('cdrec', {'reduction': 5}, 'reduction'),\n",
    "    \n",
    "    Pipeline('grouse', {'reduction': 1}, 'reduction'),\n",
    "    # Pipeline('grouse', {'reduction': 2}, 'reduction'),\n",
    "    \n",
    "    Pipeline('rosl', {'reduction': 1}, 'reduction'),\n",
    "    # Pipeline('rosl', {'reduction': 2}, 'reduction'),\n",
    "    \n",
    "    Pipeline('softimp', {'reduction': 1}, 'reduction'),\n",
    "    # Pipeline('softimp', {'reduction': 2}, 'reduction'),\n",
    "    \n",
    "    #Pipeline('spirit', {'reduction': 1}, 'reduction'),\n",
    "    # Pipeline('spirit', {'reduction': 2}, 'reduction'),\n",
    "    \n",
    "    Pipeline('svdimp', {'reduction': 1}, 'reduction'),\n",
    "    # Pipeline('svdimp', {'reduction': 5}, 'reduction'),\n",
    "    \n",
    "    Pipeline('tenmf', {'reduction': 1}, 'reduction'),\n",
    "    # Pipeline('tenmf', {'reduction': 5}, 'reduction'),\n",
    "    \n",
    "    Pipeline('stmvl', {'decay rate': 1}, 'decay rate'),\n",
    "    # Pipeline('stmvl', {'decay rate': 5}, 'decay rate'),\n",
    "    \n",
    "]"
   ]
  },
  {
   "cell_type": "markdown",
   "id": "35aad2a1",
   "metadata": {},
   "source": [
    "## Load the data sets"
   ]
  },
  {
   "cell_type": "code",
   "execution_count": 6,
   "id": "0863dd50",
   "metadata": {
    "ExecuteTime": {
     "end_time": "2022-04-30T13:43:14.906876Z",
     "start_time": "2022-04-30T13:43:02.361907Z"
    }
   },
   "outputs": [],
   "source": [
    "clusterer = ShapeBasedClustering()\n",
    "ALL_DATASETS = Dataset.instantiate_from_dir(clusterer)\n",
    "IBL = ImputeBenchLabeler.get_instance()"
   ]
  },
  {
   "cell_type": "code",
   "execution_count": 7,
   "id": "770a8171",
   "metadata": {
    "ExecuteTime": {
     "end_time": "2022-04-30T13:43:14.928547Z",
     "start_time": "2022-04-30T13:43:14.909641Z"
    },
    "code_folding": []
   },
   "outputs": [],
   "source": [
    "def get_filenames(mode):\n",
    "    results_filename = 'Experiments/results/autoaits_results_%i.csv' % mode\n",
    "    bench_results_filename = 'Experiments/results/autoaits_benchresults_%i.csv' % mode\n",
    "    return results_filename, bench_results_filename"
   ]
  },
  {
   "cell_type": "markdown",
   "id": "d125276c",
   "metadata": {},
   "source": [
    "## Set parameters\n",
    "do not change if you want to obtain the results as in the paper"
   ]
  },
  {
   "cell_type": "code",
   "execution_count": 8,
   "id": "04cc1009",
   "metadata": {
    "ExecuteTime": {
     "end_time": "2022-04-30T13:44:10.479440Z",
     "start_time": "2022-04-30T13:44:10.457256Z"
    }
   },
   "outputs": [],
   "source": [
    "DATA_USAGE_PERCENTAGES = [5, 10, 17, 30]\n",
    "\n",
    "# 0: select X % of complete time series                (nb time series varies, sequences' length is always the same)\n",
    "# 1: for each time series, select X % of their length  (nb time series is always the same, sequences' length varies)\n",
    "DATA_USAGE_STRAT = 0\n",
    "\n",
    "# 'eval': uses all pipelines with 100% of the data to verify the predictions\n",
    "# 'use': only uses the top-N pipelines with 100% of the data\n",
    "MODE = 'eval'\n",
    "\n",
    "# number of pipelines to use on all data if in mode 'use'\n",
    "N = 3\n",
    "\n",
    "USE_DEFAULT_PARAMS = True\n",
    "\n",
    "NB_DATASETS = 40\n",
    "\n",
    "results_filename, bench_results_filename = get_filenames(DATA_USAGE_STRAT)"
   ]
  },
  {
   "cell_type": "markdown",
   "id": "f39f2f0d",
   "metadata": {},
   "source": [
    "## T-Daub on each data set"
   ]
  },
  {
   "cell_type": "code",
   "execution_count": 9,
   "id": "f0ab50ea",
   "metadata": {
    "ExecuteTime": {
     "end_time": "2022-04-30T13:44:11.664833Z",
     "start_time": "2022-04-30T13:44:11.640278Z"
    },
    "code_folding": []
   },
   "outputs": [],
   "source": [
    "def filter_datasets(dataset, DATA_USAGE_PERCENTAGES, DATA_USAGE_STRAT):\n",
    "    cond1 = math.floor(dataset.nb_timeseries * (min(DATA_USAGE_PERCENTAGES) / 100)) >= 5\n",
    "    cond2 = math.floor(dataset.timeseries_length * (min(DATA_USAGE_PERCENTAGES) / 100)) >= 100\n",
    "    return cond1 if DATA_USAGE_STRAT == 0 else (cond2 if DATA_USAGE_STRAT == 1 else None)\n",
    "\n",
    "ALL_DATASETS_FILTERED = list(filter(lambda ds: filter_datasets(ds, DATA_USAGE_PERCENTAGES, DATA_USAGE_STRAT), ALL_DATASETS))\n",
    "DATASETS = np.random.choice(ALL_DATASETS_FILTERED, NB_DATASETS, replace=False)"
   ]
  },
  {
   "cell_type": "code",
   "execution_count": 10,
   "id": "2f4104ed",
   "metadata": {
    "ExecuteTime": {
     "end_time": "2022-04-30T13:44:14.844937Z",
     "start_time": "2022-04-30T13:44:14.824280Z"
    },
    "code_folding": [
     0
    ]
   },
   "outputs": [],
   "source": [
    "def generate_results_dataframes(DATASETS, PIPELINES, DATA_USAGE_PERCENTAGES):\n",
    "    my_index = pd.MultiIndex.from_tuples(\n",
    "        list(itertools.product([ds.name for ds in DATASETS], [str(pipe) for pipe in PIPELINES])), \n",
    "        names=['DATA SET', 'PIPELINE']\n",
    "    )\n",
    "    my_columns = pd.MultiIndex.from_tuples(\n",
    "        list(itertools.product(DATA_USAGE_PERCENTAGES, ['Error', 'Runtime'])),\n",
    "        names=['DATA USAGE %', '-']\n",
    "    )\n",
    "    results = pd.DataFrame(index=my_index, columns=my_columns)\n",
    "    results[[(100, 'Expected Error')]] = np.nan\n",
    "    results[[(100, 'Error')]] = np.nan\n",
    "    results[[(100, 'Runtime')]] = np.nan\n",
    "    results.head(3)\n",
    "    \n",
    "    my_columns2 = pd.MultiIndex.from_tuples(\n",
    "        list(itertools.product(DATA_USAGE_PERCENTAGES + [100], ['Benchmark Results'])),\n",
    "        names=['DATA USAGE %', '-']\n",
    "    )\n",
    "    results2 = pd.DataFrame(index=my_index, columns=my_columns2)\n",
    "    results2\n",
    "    \n",
    "    return results, results2"
   ]
  },
  {
   "cell_type": "code",
   "execution_count": 89,
   "id": "db2831de",
   "metadata": {
    "ExecuteTime": {
     "end_time": "2022-01-05T15:17:48.081419Z",
     "start_time": "2022-01-05T15:17:48.019581Z"
    },
    "scrolled": false
   },
   "outputs": [
    {
     "data": {
      "text/html": [
       "<div>\n",
       "<style scoped>\n",
       "    .dataframe tbody tr th:only-of-type {\n",
       "        vertical-align: middle;\n",
       "    }\n",
       "\n",
       "    .dataframe tbody tr th {\n",
       "        vertical-align: top;\n",
       "    }\n",
       "\n",
       "    .dataframe thead tr th {\n",
       "        text-align: left;\n",
       "    }\n",
       "\n",
       "    .dataframe thead tr:last-of-type th {\n",
       "        text-align: right;\n",
       "    }\n",
       "</style>\n",
       "<table border=\"1\" class=\"dataframe\">\n",
       "  <thead>\n",
       "    <tr>\n",
       "      <th></th>\n",
       "      <th>DATA USAGE %</th>\n",
       "      <th colspan=\"2\" halign=\"left\">5</th>\n",
       "      <th colspan=\"2\" halign=\"left\">10</th>\n",
       "      <th colspan=\"2\" halign=\"left\">17</th>\n",
       "      <th colspan=\"2\" halign=\"left\">30</th>\n",
       "      <th colspan=\"3\" halign=\"left\">100</th>\n",
       "    </tr>\n",
       "    <tr>\n",
       "      <th></th>\n",
       "      <th>-</th>\n",
       "      <th>Error</th>\n",
       "      <th>Runtime</th>\n",
       "      <th>Error</th>\n",
       "      <th>Runtime</th>\n",
       "      <th>Error</th>\n",
       "      <th>Runtime</th>\n",
       "      <th>Error</th>\n",
       "      <th>Runtime</th>\n",
       "      <th>Expected Error</th>\n",
       "      <th>Error</th>\n",
       "      <th>Runtime</th>\n",
       "    </tr>\n",
       "    <tr>\n",
       "      <th>DATA SET</th>\n",
       "      <th>PIPELINE</th>\n",
       "      <th></th>\n",
       "      <th></th>\n",
       "      <th></th>\n",
       "      <th></th>\n",
       "      <th></th>\n",
       "      <th></th>\n",
       "      <th></th>\n",
       "      <th></th>\n",
       "      <th></th>\n",
       "      <th></th>\n",
       "      <th></th>\n",
       "    </tr>\n",
       "  </thead>\n",
       "  <tbody>\n",
       "    <tr>\n",
       "      <th rowspan=\"3\" valign=\"top\">FaceAll</th>\n",
       "      <th>cdrec: {'reduction': 4}</th>\n",
       "      <td>NaN</td>\n",
       "      <td>NaN</td>\n",
       "      <td>NaN</td>\n",
       "      <td>NaN</td>\n",
       "      <td>NaN</td>\n",
       "      <td>NaN</td>\n",
       "      <td>NaN</td>\n",
       "      <td>NaN</td>\n",
       "      <td>NaN</td>\n",
       "      <td>NaN</td>\n",
       "      <td>NaN</td>\n",
       "    </tr>\n",
       "    <tr>\n",
       "      <th>grouse: {'reduction': 1}</th>\n",
       "      <td>NaN</td>\n",
       "      <td>NaN</td>\n",
       "      <td>NaN</td>\n",
       "      <td>NaN</td>\n",
       "      <td>NaN</td>\n",
       "      <td>NaN</td>\n",
       "      <td>NaN</td>\n",
       "      <td>NaN</td>\n",
       "      <td>NaN</td>\n",
       "      <td>NaN</td>\n",
       "      <td>NaN</td>\n",
       "    </tr>\n",
       "    <tr>\n",
       "      <th>rosl: {'reduction': 1}</th>\n",
       "      <td>NaN</td>\n",
       "      <td>NaN</td>\n",
       "      <td>NaN</td>\n",
       "      <td>NaN</td>\n",
       "      <td>NaN</td>\n",
       "      <td>NaN</td>\n",
       "      <td>NaN</td>\n",
       "      <td>NaN</td>\n",
       "      <td>NaN</td>\n",
       "      <td>NaN</td>\n",
       "      <td>NaN</td>\n",
       "    </tr>\n",
       "  </tbody>\n",
       "</table>\n",
       "</div>"
      ],
      "text/plain": [
       "DATA USAGE %                        5             10            17           \\\n",
       "-                                 Error Runtime Error Runtime Error Runtime   \n",
       "DATA SET PIPELINE                                                             \n",
       "FaceAll  cdrec: {'reduction': 4}    NaN     NaN   NaN     NaN   NaN     NaN   \n",
       "         grouse: {'reduction': 1}   NaN     NaN   NaN     NaN   NaN     NaN   \n",
       "         rosl: {'reduction': 1}     NaN     NaN   NaN     NaN   NaN     NaN   \n",
       "\n",
       "DATA USAGE %                        30                     100                \n",
       "-                                 Error Runtime Expected Error Error Runtime  \n",
       "DATA SET PIPELINE                                                             \n",
       "FaceAll  cdrec: {'reduction': 4}    NaN     NaN            NaN   NaN     NaN  \n",
       "         grouse: {'reduction': 1}   NaN     NaN            NaN   NaN     NaN  \n",
       "         rosl: {'reduction': 1}     NaN     NaN            NaN   NaN     NaN  "
      ]
     },
     "execution_count": 89,
     "metadata": {},
     "output_type": "execute_result"
    }
   ],
   "source": [
    "results, bench_results = generate_results_dataframes(DATASETS, PIPELINES, DATA_USAGE_PERCENTAGES)\n",
    "results.head(3)"
   ]
  },
  {
   "cell_type": "code",
   "execution_count": 90,
   "id": "05800a39",
   "metadata": {
    "ExecuteTime": {
     "end_time": "2022-01-05T15:17:49.122377Z",
     "start_time": "2022-01-05T15:17:49.067306Z"
    }
   },
   "outputs": [
    {
     "data": {
      "text/html": [
       "<div>\n",
       "<style scoped>\n",
       "    .dataframe tbody tr th:only-of-type {\n",
       "        vertical-align: middle;\n",
       "    }\n",
       "\n",
       "    .dataframe tbody tr th {\n",
       "        vertical-align: top;\n",
       "    }\n",
       "\n",
       "    .dataframe thead tr th {\n",
       "        text-align: left;\n",
       "    }\n",
       "\n",
       "    .dataframe thead tr:last-of-type th {\n",
       "        text-align: right;\n",
       "    }\n",
       "</style>\n",
       "<table border=\"1\" class=\"dataframe\">\n",
       "  <thead>\n",
       "    <tr>\n",
       "      <th></th>\n",
       "      <th>DATA USAGE %</th>\n",
       "      <th>5</th>\n",
       "      <th>10</th>\n",
       "      <th>17</th>\n",
       "      <th>30</th>\n",
       "      <th>100</th>\n",
       "    </tr>\n",
       "    <tr>\n",
       "      <th></th>\n",
       "      <th>-</th>\n",
       "      <th>Benchmark Results</th>\n",
       "      <th>Benchmark Results</th>\n",
       "      <th>Benchmark Results</th>\n",
       "      <th>Benchmark Results</th>\n",
       "      <th>Benchmark Results</th>\n",
       "    </tr>\n",
       "    <tr>\n",
       "      <th>DATA SET</th>\n",
       "      <th>PIPELINE</th>\n",
       "      <th></th>\n",
       "      <th></th>\n",
       "      <th></th>\n",
       "      <th></th>\n",
       "      <th></th>\n",
       "    </tr>\n",
       "  </thead>\n",
       "  <tbody>\n",
       "    <tr>\n",
       "      <th rowspan=\"3\" valign=\"top\">FaceAll</th>\n",
       "      <th>cdrec: {'reduction': 4}</th>\n",
       "      <td>NaN</td>\n",
       "      <td>NaN</td>\n",
       "      <td>NaN</td>\n",
       "      <td>NaN</td>\n",
       "      <td>NaN</td>\n",
       "    </tr>\n",
       "    <tr>\n",
       "      <th>grouse: {'reduction': 1}</th>\n",
       "      <td>NaN</td>\n",
       "      <td>NaN</td>\n",
       "      <td>NaN</td>\n",
       "      <td>NaN</td>\n",
       "      <td>NaN</td>\n",
       "    </tr>\n",
       "    <tr>\n",
       "      <th>rosl: {'reduction': 1}</th>\n",
       "      <td>NaN</td>\n",
       "      <td>NaN</td>\n",
       "      <td>NaN</td>\n",
       "      <td>NaN</td>\n",
       "      <td>NaN</td>\n",
       "    </tr>\n",
       "  </tbody>\n",
       "</table>\n",
       "</div>"
      ],
      "text/plain": [
       "DATA USAGE %                                    5                 10   \\\n",
       "-                                 Benchmark Results Benchmark Results   \n",
       "DATA SET PIPELINE                                                       \n",
       "FaceAll  cdrec: {'reduction': 4}                NaN               NaN   \n",
       "         grouse: {'reduction': 1}               NaN               NaN   \n",
       "         rosl: {'reduction': 1}                 NaN               NaN   \n",
       "\n",
       "DATA USAGE %                                    17                30   \\\n",
       "-                                 Benchmark Results Benchmark Results   \n",
       "DATA SET PIPELINE                                                       \n",
       "FaceAll  cdrec: {'reduction': 4}                NaN               NaN   \n",
       "         grouse: {'reduction': 1}               NaN               NaN   \n",
       "         rosl: {'reduction': 1}                 NaN               NaN   \n",
       "\n",
       "DATA USAGE %                                    100  \n",
       "-                                 Benchmark Results  \n",
       "DATA SET PIPELINE                                    \n",
       "FaceAll  cdrec: {'reduction': 4}                NaN  \n",
       "         grouse: {'reduction': 1}               NaN  \n",
       "         rosl: {'reduction': 1}                 NaN  "
      ]
     },
     "execution_count": 90,
     "metadata": {},
     "output_type": "execute_result"
    }
   ],
   "source": [
    "bench_results.head(3)"
   ]
  },
  {
   "cell_type": "code",
   "execution_count": null,
   "id": "e8c1fa4c",
   "metadata": {
    "ExecuteTime": {
     "start_time": "2022-01-05T15:19:07.740Z"
    },
    "code_folding": []
   },
   "outputs": [],
   "source": [
    "# RUN t-daub\n",
    "for ds in tqdm(DATASETS, leave=True, total=len(DATASETS)):\n",
    "    timeseries = ds.load_timeseries(transpose=False) # each column is a time series\n",
    "    timeseries_length = timeseries.shape[0]\n",
    "    nb_timeseries = timeseries.shape[1]\n",
    "    assert timeseries_length == ds.timeseries_length and nb_timeseries == ds.nb_timeseries\n",
    "    \n",
    "    #print(ds.name, nb_timeseries, timeseries_length) # TODO tmp\n",
    "    \n",
    "    # randomly shuffle the time series\n",
    "    timeseries = timeseries.sample(frac=1, axis=1, random_state=23)\n",
    "    timeseries.columns = range(len(timeseries.columns))\n",
    "    \n",
    "    for data_usage_perc in tqdm(sorted(DATA_USAGE_PERCENTAGES), leave=False, total=len(DATA_USAGE_PERCENTAGES)):\n",
    "        # select the time series to use\n",
    "        if DATA_USAGE_STRAT == 0: # select X % of complete time series\n",
    "            nb_timeseries_to_use = math.floor(nb_timeseries * (data_usage_perc / 100))\n",
    "            assert nb_timeseries_to_use >= 5\n",
    "            timeseries_subset = timeseries[range(nb_timeseries_to_use)]\n",
    "        elif DATA_USAGE_STRAT == 1: # for each time series, select X % of their length\n",
    "            length_to_use = math.floor(timeseries_length * (data_usage_perc / 100))\n",
    "            assert length_to_use >= 100\n",
    "            timeseries_subset = timeseries.iloc[:length_to_use]\n",
    "        else: raise Exception('Unknown data usage strategy.')\n",
    "\n",
    "        #print('subset:', timeseries_subset.shape[1], timeseries_subset.shape[0], '%i%%' % data_usage_perc) # TODO tmp\n",
    "            \n",
    "        # run each pipeline on this subset\n",
    "        for pipeline in tqdm(PIPELINES, leave=False, total=len(PIPELINES)):\n",
    "            #print('\\n\\n%s' % pipeline) # TODO tmp\n",
    "            start_time = perf_counter()\n",
    "            bench_res, _ = IBL._run_benchmark(\n",
    "                timeseries_subset, \n",
    "                alg_algx_cmd= pipeline.get_alg() if USE_DEFAULT_PARAMS else pipeline.get_algx(),\n",
    "                scenario='miss_perc',\n",
    "                errors=['mae', 'mse', 'rmse'],\n",
    "                id='%s_%i__%s' % (\n",
    "                    ds.name, \n",
    "                    data_usage_perc, \n",
    "                    pipeline.get_id()),\n",
    "                plots=False, \n",
    "                delete_results=True\n",
    "            )\n",
    "            runtime = perf_counter() - start_time\n",
    "            \n",
    "            # retrieve the lowest error from the benchmark\n",
    "            ranking_strat_params = ImputeBenchLabeler.CONF['BENCH_RES_AGG_AND_RANK_STRATEGY_PARAMS']['simple']\n",
    "            agg_bench_res = IBL._aggregate_bench_res(bench_res, \n",
    "                                                     index_to_agg=ranking_strat_params['index_to_agg'], \n",
    "                                                     agg_strat=ranking_strat_params['agg_strat'])\n",
    "            _, error = IBL._get_highest_bench_score(agg_bench_res, 'rmse', algos_to_exclude=[])\n",
    "            \n",
    "            results.at[(ds.name, str(pipeline)), (data_usage_perc, 'Runtime')] = runtime\n",
    "            results.at[(ds.name, str(pipeline)), (data_usage_perc, 'Error')] = error\n",
    "            bench_results.at[(ds.name, str(pipeline)), (data_usage_perc, 'Benchmark Results')] = bench_res.to_dict()\n",
    "            \n",
    "            #print(results.loc[(ds.name, str(pipeline)), (data_usage_perc, slice(None))]) # TODO tmp\n",
    "            \n",
    "            results.to_csv(results_filename)\n",
    "            bench_results.to_csv(bench_results_filename)\n",
    "results.head(3)"
   ]
  },
  {
   "cell_type": "markdown",
   "id": "8bc8aee8",
   "metadata": {},
   "source": [
    "## Predict which pipelines should work the best and use them on all data"
   ]
  },
  {
   "cell_type": "code",
   "execution_count": 96,
   "id": "a9ab2b92",
   "metadata": {
    "ExecuteTime": {
     "end_time": "2022-01-06T12:36:48.465505Z",
     "start_time": "2022-01-06T12:36:48.427466Z"
    },
    "code_folding": [
     0
    ]
   },
   "outputs": [],
   "source": [
    "# for each data set:\n",
    "#   for each pipeline:\n",
    "#     use a regression model to predict the lowest error at 100%\n",
    "#   rank the pipelines according to the 100, Lowest error column\n",
    "#   select the top-N pipelines\n",
    "#   train the top-N pipelines on 100% of the data"
   ]
  },
  {
   "cell_type": "code",
   "execution_count": null,
   "id": "a9e6ba4b",
   "metadata": {
    "ExecuteTime": {
     "start_time": "2022-01-06T12:40:38.644Z"
    },
    "code_folding": [
     0
    ],
    "scrolled": true
   },
   "outputs": [],
   "source": [
    "# identify and use the expected best-performing methods\n",
    "for ds in tqdm(DATASETS, leave=True, total=len(DATASETS)):\n",
    "    timeseries = ds.load_timeseries(transpose=False) # each column is a time series\n",
    "    timeseries_length = timeseries.shape[0]\n",
    "    nb_timeseries = timeseries.shape[1]\n",
    "    assert timeseries_length == ds.timeseries_length and nb_timeseries == ds.nb_timeseries\n",
    "    \n",
    "    #print(ds.name, nb_timeseries, timeseries_length) # TODO tmp\n",
    "    \n",
    "    # predict which pipelines will perform the best with 100% of the data\n",
    "    for pipeline in tqdm(PIPELINES, leave=False, total=len(PIPELINES)):\n",
    "        errors = np.array(results.loc[(ds.name, str(pipeline)), (results.columns.get_level_values(0) != 100, 'Error')]\\\n",
    "                                        .tolist())\\\n",
    "                                        .reshape(-1, 1)\n",
    "        # linear regression\n",
    "        reg = LinearRegression().fit(np.array(DATA_USAGE_PERCENTAGES).reshape(-1, 1), errors)\n",
    "\n",
    "        # ranking of the pipelines based on their predicted scores when using all data\n",
    "        results.at[(ds.name, str(pipeline)), (100, 'Expected Error')] = reg.predict([[100]])[0][0]\n",
    "    \n",
    "    best_pipelines = results.loc[ds.name, :]\\\n",
    "                            .sort_values(by=(100, 'Expected Error'), ascending=False)\\\n",
    "                            .iloc[0:N].index.tolist()\n",
    "    \n",
    "    # use the best pipelines on all data\n",
    "    pipelines_to_use = None\n",
    "    if MODE == 'eval':\n",
    "        pipelines_to_use = PIPELINES\n",
    "    elif MODE == 'use':\n",
    "        pipelines_to_use = best_pipelines\n",
    "    else: raise Exception('Unknown mode')\n",
    "    \n",
    "    for pipeline in tqdm(pipelines_to_use, leave=False, total=len(pipelines_to_use)):\n",
    "        #print('\\n\\n%s' % pipeline) # TODO tmp\n",
    "        start_time = perf_counter()\n",
    "        bench_res, _ = IBL._run_benchmark(\n",
    "            timeseries, \n",
    "            alg_algx_cmd= pipeline.get_alg() if USE_DEFAULT_PARAMS else pipeline.get_algx(),\n",
    "            scenario='miss_perc',\n",
    "            errors=['mae', 'mse', 'rmse'],\n",
    "            id='%s_%i__%s' % (\n",
    "                    ds.name, \n",
    "                    data_usage_perc, \n",
    "                    pipeline.get_id()),\n",
    "            plots=False, \n",
    "            delete_results=True\n",
    "        )\n",
    "        runtime = perf_counter() - start_time\n",
    "        \n",
    "        # retrieve the lowest error from the benchmark\n",
    "        ranking_strat_params = ImputeBenchLabeler.CONF['BENCH_RES_AGG_AND_RANK_STRATEGY_PARAMS']['simple']\n",
    "        agg_bench_res = IBL._aggregate_bench_res(bench_res, \n",
    "                                                 index_to_agg=ranking_strat_params['index_to_agg'], \n",
    "                                                 agg_strat=ranking_strat_params['agg_strat'])\n",
    "        _, error = IBL._get_highest_bench_score(agg_bench_res, 'rmse', algos_to_exclude=[])\n",
    "            \n",
    "        results.at[(ds.name, str(pipeline)), (100, 'Runtime')] = runtime\n",
    "        results.at[(ds.name, str(pipeline)), (100, 'Error')] = error\n",
    "        bench_results.at[(ds.name, str(pipeline)), (100, 'Benchmark Results')] = bench_res.to_dict()\n",
    "        \n",
    "        #print(results.loc[(ds.name, str(pipeline)), (100, slice(None))]) # TODO tmp\n",
    "\n",
    "        results.to_csv(results_filename)\n",
    "        bench_results.to_csv(bench_results_filename)"
   ]
  },
  {
   "cell_type": "code",
   "execution_count": 120,
   "id": "35517a32",
   "metadata": {
    "ExecuteTime": {
     "end_time": "2022-04-18T16:08:44.573052Z",
     "start_time": "2022-04-18T16:08:44.451727Z"
    }
   },
   "outputs": [],
   "source": [
    "results.dropna(axis=0).to_csv(results_filename)\n",
    "bench_results.dropna(axis=0).to_csv(bench_results_filename)"
   ]
  },
  {
   "cell_type": "markdown",
   "id": "b856fe5d",
   "metadata": {},
   "source": [
    "# Plots"
   ]
  },
  {
   "cell_type": "code",
   "execution_count": 121,
   "id": "f2e0d6a3",
   "metadata": {
    "ExecuteTime": {
     "end_time": "2022-04-18T16:08:46.782948Z",
     "start_time": "2022-04-18T16:08:46.740134Z"
    },
    "code_folding": [
     0
    ]
   },
   "outputs": [],
   "source": [
    "def load_results_file(filename):\n",
    "    results = pd.read_csv(filename, \n",
    "                          index_col=[0,1], header=[0,1], skipinitialspace=True)\n",
    "    results.columns = results.columns.set_levels(\n",
    "          results.columns.levels[0].astype('int64'), level=0\n",
    "    )\n",
    "    return results"
   ]
  },
  {
   "cell_type": "code",
   "execution_count": 122,
   "id": "1e15e023",
   "metadata": {
    "ExecuteTime": {
     "end_time": "2022-04-18T16:08:47.018511Z",
     "start_time": "2022-04-18T16:08:46.977763Z"
    },
    "code_folding": [
     0
    ]
   },
   "outputs": [],
   "source": [
    "def plot_from_results(subject, results, pipelines, argx, title, plot=True):\n",
    "    sns.set_theme()\n",
    "    sns.set_style('darkgrid')\n",
    "    results_ = results.astype('float32')\n",
    "    \n",
    "    if isinstance(results_.index, pd.MultiIndex):\n",
    "        all_ys = results_.groupby('PIPELINE').mean()\n",
    "    else:\n",
    "        all_ys = results_\n",
    "    colors = cm.gist_rainbow(np.linspace(0, 1, len(pipelines)))\n",
    "    for pipeline, c in zip(pipelines, colors):\n",
    "        x = sorted(results_.columns.levels[0].tolist())\n",
    "        y = all_ys.loc[str(pipeline), (slice(None), subject)].tolist()\n",
    "        plt.plot(x, y, color=c, label= str(pipeline) if argx else pipeline.method_name)\n",
    "    plt.xlabel('Data usage %')\n",
    "    plt.xticks(x)\n",
    "    plt.ylabel(subject)\n",
    "    #max_y = all_ys.loc[slice(None), (slice(None), subject)].quantile(.75).max()\n",
    "    #print(max_y, all_ys.loc[slice(None), (slice(None), subject)].max().max())\n",
    "    plt.ylim([0, min(180, all_ys.loc[slice(None), (slice(None), subject)].max().max())])\n",
    "    plt.title(title)\n",
    "    plt.legend(loc='upper center', bbox_to_anchor=(0.5, -0.15),\n",
    "          fancybox=True, shadow=True, ncol=5)\n",
    "    plt.rcParams['figure.figsize'] = (8,6)\n",
    "    if plot:\n",
    "        plt.show()\n",
    "    return colors"
   ]
  },
  {
   "cell_type": "code",
   "execution_count": 170,
   "id": "22ca6609",
   "metadata": {
    "ExecuteTime": {
     "end_time": "2022-04-19T11:52:42.645236Z",
     "start_time": "2022-04-19T11:52:42.604578Z"
    },
    "code_folding": [
     0
    ]
   },
   "outputs": [],
   "source": [
    "def all_plots_and_prints(results, per_dataset=False):\n",
    "    # average over all data sets\n",
    "    print('============================================================\\n', '\\033[1m Average over all data sets: \\033[0m')\n",
    "    _ = plot_from_results('Runtime', results, PIPELINES, \n",
    "                          argx=False, title='Average runtime in seconds over all data sets')\n",
    "    \n",
    "    colors = plot_from_results('Error', results, PIPELINES, \n",
    "                               argx=False, title='Average RMSE error (and predicted error) over all data sets', plot=False)\n",
    "    #x, y = [], []\n",
    "    #all_ys = results.groupby('PIPELINE').mean()\n",
    "    #for pipeline in PIPELINES:\n",
    "    #    x.append(100)\n",
    "    #    y.extend(all_ys.loc[str(pipeline), (slice(None), 'Expected Error')].tolist())\n",
    "    #plt.scatter(x, y, color=colors)\n",
    "    #plt.show()\n",
    "    \n",
    "    # per data set\n",
    "    if per_dataset:\n",
    "        print('============================================================\\n', '\\033[1m Per data set: \\033[0m')\n",
    "        metrics = {'prec@3': [], 'rec@3': [], 'mrr': []}\n",
    "        y_true, y_pred = [], []\n",
    "        for ds_name in results.index.levels[0].tolist():\n",
    "\n",
    "            print('\\n\\n', '\\033[1m', ds_name, '\\033[0m')\n",
    "\n",
    "            results_subset = results.copy(deep=True).loc[(ds_name, slice(None))]\n",
    "\n",
    "            # plot errors & predicted error\n",
    "            #colors = plot_from_results('Error', results_subset, PIPELINES, \n",
    "            #                           argx=False, title='RMSE error (and predicted error) for data set %s' % ds_name, plot=False)\n",
    "            #x, y = [], []\n",
    "            #if isinstance(results_subset.index, pd.MultiIndex):\n",
    "            #    all_ys = results_subset.groupby('PIPELINE').mean()\n",
    "            #else:\n",
    "            #    all_ys = results_subset\n",
    "            #for pipeline in PIPELINES:\n",
    "            #    x.append(100)\n",
    "            #    y.extend(all_ys.loc[str(pipeline), (slice(None), 'Expected Error')].tolist())\n",
    "            #plt.scatter(x, y, color=colors)\n",
    "            #plt.show()\n",
    "\n",
    "            # ranking comparison\n",
    "            df = pd.DataFrame(zip(results_subset.sort_values((100, 'Expected Error')).index.tolist(), \n",
    "                                  results_subset.sort_values((100, 'Error')).index.tolist()))\n",
    "            #df = df.applymap(lambda s: s.method_name)\n",
    "            df.columns = ['Expected Error', 'Error']\n",
    "            df.index.name = 'Ranking'\n",
    "            df.index = range(1, df.shape[0]+1)\n",
    "            #display(df)\n",
    "\n",
    "            # evaluate\n",
    "            nb_correct_labels = 1\n",
    "            correct_labels = df['Error'].iloc[:nb_correct_labels].tolist()\n",
    "            correct_labels_rank = [df[df['Expected Error'] == corr_lbl].index.tolist().pop() for corr_lbl in correct_labels] # rank at which each correct label is found\n",
    "\n",
    "            y_true.append(df['Error'].iloc[0])\n",
    "            y_pred.append(df['Expected Error'].iloc[0])\n",
    "\n",
    "            K = 3\n",
    "            prec_at_K = sum(int(rank_i <= K) for rank_i in correct_labels_rank) / K\n",
    "            rec_at_K = sum(int(rank_i <= K) for rank_i in correct_labels_rank) / len(correct_labels)\n",
    "            mrr = 1 / correct_labels_rank[0]\n",
    "            metrics['prec@3'].append(prec_at_K)\n",
    "            metrics['rec@3'].append(rec_at_K)\n",
    "            metrics['mrr'].append(mrr)\n",
    "            #print('Precision@3: %.2f | Recall@3: %.2f' % (prec_at_K, rec_at_K))\n",
    "        \n",
    "    print('\\n\\n============================================================\\n', '\\033[1m Average metrics: \\033[0m')\n",
    "    \n",
    "    acc = accuracy_score(y_true, y_pred, normalize=True, sample_weight=None)\n",
    "    prec = precision_score(y_true=y_true, y_pred=y_pred, average='weighted', zero_division=0).tolist()\n",
    "    recall = recall_score(y_true=y_true, y_pred=y_pred, average='weighted', zero_division=0).tolist()\n",
    "    f1 = f1_score(y_true=y_true, y_pred=y_pred, average='weighted', zero_division=0)\n",
    "    \n",
    "    avg_prec3 = sum(metrics['prec@3']) / len(metrics['prec@3'])\n",
    "    avg_rec3 = sum(metrics['rec@3']) / len(metrics['rec@3'])\n",
    "    mrr = (1 / len(metrics['mrr'])) * sum(metrics['mrr'])\n",
    "    print('Average precision@3: %.2f | Average recall@3: %.2f | Mean reciprocal rank: %.2f' % (avg_prec3, avg_rec3, mrr))\n",
    "    print('Accuracy: %.2f | Precision: %.2f | Recall: %.2f | F1-Score: %.2f' % (acc, prec, recall, f1))\n",
    "    \n",
    "    return y_true, y_pred"
   ]
  },
  {
   "cell_type": "code",
   "execution_count": 171,
   "id": "078555f0",
   "metadata": {
    "ExecuteTime": {
     "end_time": "2022-04-19T11:52:44.179419Z",
     "start_time": "2022-04-19T11:52:43.520591Z"
    },
    "scrolled": true
   },
   "outputs": [
    {
     "name": "stdout",
     "output_type": "stream",
     "text": [
      "============================================================\n",
      " \u001b[1m Average over all data sets: \u001b[0m\n"
     ]
    },
    {
     "data": {
      "image/png": "[encoded data removed]",
      "text/plain": [
       "<Figure size 576x432 with 1 Axes>"
      ]
     },
     "metadata": {},
     "output_type": "display_data"
    },
    {
     "name": "stdout",
     "output_type": "stream",
     "text": [
      "============================================================\n",
      " \u001b[1m Per data set: \u001b[0m\n",
      "\n",
      "\n",
      "============================================================\n",
      " \u001b[1m Average metrics: \u001b[0m\n",
      "Average precision@3: 0.13 | Average recall@3: 0.38 | Mean reciprocal rank: 0.37\n",
      "Accuracy: 0.18 | Precision: 0.42 | Recall: 0.18 | F1-Score: 0.18\n"
     ]
    },
    {
     "data": {
      "image/png": "[encoded data removed]",
      "text/plain": [
       "<Figure size 576x432 with 1 Axes>"
      ]
     },
     "metadata": {},
     "output_type": "display_data"
    }
   ],
   "source": [
    "results = load_results_file(get_filenames(0)[0])\n",
    "#display(results)\n",
    "y_true0, y_pred0 = all_plots_and_prints(results)"
   ]
  },
  {
   "cell_type": "code",
   "execution_count": 173,
   "id": "f1b61811",
   "metadata": {
    "ExecuteTime": {
     "end_time": "2022-04-19T11:57:28.285186Z",
     "start_time": "2022-04-19T11:57:27.773748Z"
    }
   },
   "outputs": [
    {
     "data": {
      "text/plain": [
       "<sklearn.metrics._plot.confusion_matrix.ConfusionMatrixDisplay at 0x7fb5320a6d30>"
      ]
     },
     "execution_count": 173,
     "metadata": {},
     "output_type": "execute_result"
    },
    {
     "data": {
      "image/png": "[encoded data removed]",
      "text/plain": [
       "<Figure size 576x432 with 2 Axes>"
      ]
     },
     "metadata": {},
     "output_type": "display_data"
    }
   ],
   "source": [
    "y_pred0_ = list(map(lambda s: s.split(':')[0], y_pred0))\n",
    "y_true0_ = list(map(lambda s: s.split(':')[0], y_true0))\n",
    "ConfusionMatrixDisplay.from_predictions(y_true=y_true0_, y_pred=y_pred0_, xticks_rotation=45)"
   ]
  },
  {
   "cell_type": "code",
   "execution_count": null,
   "id": "5835aba5",
   "metadata": {},
   "outputs": [],
   "source": []
  }
 ],
 "metadata": {
  "kernelspec": {
   "display_name": "Python 3 (ipykernel)",
   "language": "python",
   "name": "python3"
  },
  "language_info": {
   "codemirror_mode": {
    "name": "ipython",
    "version": 3
   },
   "file_extension": ".py",
   "mimetype": "text/x-python",
   "name": "python",
   "nbconvert_exporter": "python",
   "pygments_lexer": "ipython3",
   "version": "3.8.0"
  },
  "toc": {
   "base_numbering": 1,
   "nav_menu": {},
   "number_sections": true,
   "sideBar": true,
   "skip_h1_title": false,
   "title_cell": "Table of Contents",
   "title_sidebar": "Contents",
   "toc_cell": false,
   "toc_position": {},
   "toc_section_display": true,
   "toc_window_display": false
  }
 },
 "nbformat": 4,
 "nbformat_minor": 5
}
