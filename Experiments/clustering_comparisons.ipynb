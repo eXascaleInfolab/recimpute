{
 "cells": [
  {
   "cell_type": "raw",
   "id": "5f512562",
   "metadata": {},
   "source": [
    "/!\\ warning: running this experiment WILL replace your current \"cassignments\" files. Please consider creating a backup of those file (stored in recimpute/Clustering/cassignments) if you don't want to re-generate those files later."
   ]
  },
  {
   "cell_type": "code",
   "execution_count": 1,
   "id": "3ec65846",
   "metadata": {
    "ExecuteTime": {
     "end_time": "2022-04-30T14:44:34.398498Z",
     "start_time": "2022-04-30T14:44:33.854932Z"
    }
   },
   "outputs": [],
   "source": [
    "import itertools\n",
    "import matplotlib.pyplot as plt\n",
    "import numpy as np\n",
    "import os\n",
    "import pandas as pd\n",
    "import random as rdm\n",
    "from tqdm.notebook import tqdm\n",
    "import time"
   ]
  },
  {
   "cell_type": "code",
   "execution_count": 2,
   "id": "fa064798",
   "metadata": {
    "ExecuteTime": {
     "end_time": "2022-04-30T14:44:34.404834Z",
     "start_time": "2022-04-30T14:44:34.400676Z"
    },
    "scrolled": false
   },
   "outputs": [
    {
     "name": "stdout",
     "output_type": "stream",
     "text": [
      "/home/guillaume/recimpute\n"
     ]
    }
   ],
   "source": [
    "cd ../"
   ]
  },
  {
   "cell_type": "code",
   "execution_count": 3,
   "id": "634894bc",
   "metadata": {
    "ExecuteTime": {
     "end_time": "2022-04-30T14:44:34.937781Z",
     "start_time": "2022-04-30T14:44:34.494009Z"
    }
   },
   "outputs": [],
   "source": [
    "%load_ext autoreload\n",
    "%autoreload 2\n",
    "from Datasets.Dataset import Dataset\n",
    "from Clustering.AbstractClustering import AbstractClustering\n",
    "from Clustering.ShapeBasedClustering import ShapeBasedClustering\n",
    "import Clustering.ConFree_kClustering as cfkc"
   ]
  },
  {
   "cell_type": "code",
   "execution_count": null,
   "id": "d78b26ca",
   "metadata": {},
   "outputs": [],
   "source": [
    "if not os.path.exists('Experiments/results'):\n",
    "    os.makedirs('Experiments/results')"
   ]
  },
  {
   "cell_type": "code",
   "execution_count": 4,
   "id": "1ac4fd52",
   "metadata": {
    "ExecuteTime": {
     "end_time": "2022-04-30T14:45:02.578243Z",
     "start_time": "2022-04-30T14:44:40.846905Z"
    }
   },
   "outputs": [],
   "source": [
    "Dataset.CONF['USE_ALL'] = True\n",
    "clusterer = ShapeBasedClustering()\n",
    "ALL_DATASETS = Dataset.instantiate_from_dir(clusterer)"
   ]
  },
  {
   "cell_type": "code",
   "execution_count": null,
   "id": "19345dd8",
   "metadata": {
    "ExecuteTime": {
     "end_time": "2022-04-30T14:45:02.603769Z",
     "start_time": "2022-04-30T14:45:02.580917Z"
    }
   },
   "outputs": [],
   "source": [
    "FILTERED_DATASETS = rdm.sample(ALL_DATASETS, 3)\n",
    "FILTERED_DATASETS"
   ]
  },
  {
   "cell_type": "markdown",
   "id": "8840dd5c",
   "metadata": {},
   "source": [
    "# Run comparisons"
   ]
  },
  {
   "cell_type": "code",
   "execution_count": 7,
   "id": "2a8a38c6",
   "metadata": {
    "ExecuteTime": {
     "end_time": "2022-04-30T14:45:15.617945Z",
     "start_time": "2022-04-30T14:45:15.598715Z"
    }
   },
   "outputs": [],
   "source": [
    "comparisons_filename = 'Experiments/results/clusteringexperiment_comparisons.json'"
   ]
  },
  {
   "cell_type": "code",
   "execution_count": 8,
   "id": "68f9a19b",
   "metadata": {
    "ExecuteTime": {
     "end_time": "2022-04-30T14:45:16.884150Z",
     "start_time": "2022-04-30T14:45:16.862068Z"
    }
   },
   "outputs": [],
   "source": [
    "# create the comparisons data frame\n",
    "my_columns = pd.MultiIndex.from_tuples(\n",
    "    list(itertools.product(['8-Shape', 'Gridsearch', 'Iterative', 'IncrementalClustering'], \n",
    "                           ['Clusters Assignment', 'Runtime', 'NCC Score', 'Average Correlation', 'Nb mono-sequence clusters', 'Nb clusters']))\n",
    ")\n",
    "comparison_df = pd.DataFrame(index=map(lambda ds: ds.name, FILTERED_DATASETS), columns=my_columns)"
   ]
  },
  {
   "cell_type": "code",
   "execution_count": 9,
   "id": "db62b161",
   "metadata": {
    "ExecuteTime": {
     "end_time": "2022-04-30T14:45:17.358565Z",
     "start_time": "2022-04-30T14:45:17.341664Z"
    },
    "code_folding": []
   },
   "outputs": [],
   "source": [
    "def get_avg_mean_corr(ds, timeseries, clusters_assignment):\n",
    "    mean_corrs = [\n",
    "        clusterer._get_dataset_mean_corr(ds.get_cluster_by_id(timeseries, cid, clusters_assignment))\n",
    "        for cid in clusters_assignment['Cluster ID'].unique()\n",
    "    ]\n",
    "    return np.mean(mean_corrs)"
   ]
  },
  {
   "cell_type": "code",
   "execution_count": 10,
   "id": "76fd1ee3",
   "metadata": {
    "ExecuteTime": {
     "end_time": "2022-04-30T14:45:17.904785Z",
     "start_time": "2022-04-30T14:45:17.885277Z"
    },
    "code_folding": []
   },
   "outputs": [],
   "source": [
    "def save_results(comparison_df, column, ds, timeseries, runtime):\n",
    "    cass = ds.load_cassignment(clusterer)\n",
    "    ncc_score = clusterer._compute_run_score(timeseries, cass)\n",
    "    avg_corr = get_avg_mean_corr(ds, timeseries, cass)\n",
    "    nb_monoseq_clusters = sum(cass['Cluster ID'].value_counts() == 1)\n",
    "    nb_clusters = cass['Cluster ID'].nunique()\n",
    "    \n",
    "    #comparison_df.at[ds.name, (column, 'Clusters Assignment')] = cass\n",
    "    comparison_df.at[ds.name, (column, 'Runtime')] = runtime\n",
    "    comparison_df.at[ds.name, (column, 'NCC Score')] = ncc_score\n",
    "    comparison_df.at[ds.name, (column, 'Average Correlation')] = avg_corr\n",
    "    comparison_df.at[ds.name, (column, 'Nb mono-sequence clusters')] = nb_monoseq_clusters\n",
    "    comparison_df.at[ds.name, (column, 'Nb clusters')] = nb_clusters \n",
    "    \n",
    "    #comparison_df.to_csv(comparisons_filename)\n",
    "    return comparison_df"
   ]
  },
  {
   "cell_type": "code",
   "execution_count": 11,
   "id": "9d24c045",
   "metadata": {
    "ExecuteTime": {
     "end_time": "2022-04-30T14:45:18.465511Z",
     "start_time": "2022-04-30T14:45:18.446146Z"
    },
    "code_folding": []
   },
   "outputs": [],
   "source": [
    "def k_shape_8(ds, timeseries):\n",
    "    labels = clusterer.kshape_helper(8, timeseries)\n",
    "    data = [\n",
    "        (tid, cid) # time series id, assigned cluster's id\n",
    "        for tid, cid in zip(timeseries.index, labels)\n",
    "    ]\n",
    "    cass = pd.DataFrame(data=data, columns=['Time Series ID', 'Cluster ID']).sort_values('Time Series ID')\n",
    "    clusterer.save_clusters(ds, cass)\n",
    "    return ds"
   ]
  },
  {
   "cell_type": "code",
   "execution_count": null,
   "id": "a5deb553",
   "metadata": {
    "ExecuteTime": {
     "end_time": "2022-04-30T14:51:30.835405Z",
     "start_time": "2022-04-30T14:45:20.511166Z"
    },
    "code_folding": [],
    "scrolled": true
   },
   "outputs": [],
   "source": [
    "for ds in tqdm(FILTERED_DATASETS, total=len(FILTERED_DATASETS)): \n",
    "    \n",
    "    timeseries = ds.load_timeseries(transpose=True)\n",
    "    \n",
    "    print(\"1/4\") #  *- IncrementalClustering -*\n",
    "    try:\n",
    "        clusterer.CONF['APPLY_MERGING'] = True\n",
    "        \n",
    "        start_time = time.time()\n",
    "        updated_ds = clusterer.cluster(ds)\n",
    "        runtime = time.time() - start_time\n",
    "        comparison_df = save_results(comparison_df, 'IncrementalClustering', ds, timeseries, runtime)\n",
    "    except:\n",
    "        pass\n",
    "    \n",
    "    \n",
    "    print(\"2/4\") #  *- Iterative -*\n",
    "    try:\n",
    "        clusterer.CONF['APPLY_MERGING'] = False\n",
    "\n",
    "        start_time = time.time()\n",
    "        updated_ds = clusterer.cluster(ds)\n",
    "        runtime = time.time() - start_time\n",
    "        comparison_df = save_results(comparison_df, 'Iterative', ds, timeseries, runtime)\n",
    "    except:\n",
    "        pass\n",
    "    \n",
    "    \n",
    "    print(\"3/4\") #  *- # - Gridsearch -*\n",
    "    try:\n",
    "        start_time = time.time()\n",
    "        updated_ds = clusterer.old__cluster(ds)\n",
    "        runtime = time.time() - start_time\n",
    "        comparison_df = save_results(comparison_df, 'Gridsearch', ds, timeseries, runtime)\n",
    "    except:\n",
    "        pass\n",
    "    \n",
    "    \n",
    "    print(\"4/4\") #  *- 8-Shape -*\n",
    "    try:\n",
    "        start_time = time.time()\n",
    "        updated_ds = k_shape_8(ds, timeseries)\n",
    "        runtime = time.time() - start_time\n",
    "        comparison_df = save_results(comparison_df, '8-Shape', ds, timeseries, runtime)\n",
    "    except:\n",
    "        pass"
   ]
  },
  {
   "cell_type": "code",
   "execution_count": null,
   "id": "caa4929d",
   "metadata": {
    "ExecuteTime": {
     "end_time": "2022-04-30T14:51:42.990825Z",
     "start_time": "2022-04-30T14:51:42.940847Z"
    }
   },
   "outputs": [],
   "source": [
    "pd.set_option('display.max_columns', None)\n",
    "comparison_df.head(2)"
   ]
  },
  {
   "cell_type": "markdown",
   "id": "e3d45ff4",
   "metadata": {},
   "source": [
    "# Results analysis"
   ]
  },
  {
   "cell_type": "code",
   "execution_count": null,
   "id": "b18f15f2",
   "metadata": {
    "ExecuteTime": {
     "end_time": "2022-04-30T14:51:39.544056Z",
     "start_time": "2022-04-30T14:51:39.516093Z"
    }
   },
   "outputs": [],
   "source": [
    "comparison_df.mean()"
   ]
  },
  {
   "cell_type": "code",
   "execution_count": null,
   "id": "44868f34",
   "metadata": {
    "ExecuteTime": {
     "end_time": "2022-04-30T14:51:30.969943Z",
     "start_time": "2022-04-30T14:51:30.969927Z"
    },
    "code_folding": [
     0
    ]
   },
   "outputs": [],
   "source": [
    "def bar_plots(xlabels, ylabel):\n",
    "    plt.rcdefaults()\n",
    "    fig, ax = plt.subplots()\n",
    "\n",
    "    x_pos = np.arange(len(xlabels))\n",
    "    ys = comparison_df.loc[:, (slice(None), ylabel)].mean().tolist()\n",
    "\n",
    "    ax.bar(x_pos, ys, align='center')\n",
    "    ax.set_xticks(x_pos)\n",
    "    ax.set_xticklabels(xlabels, rotation=45, horizontalalignment='right')\n",
    "    ax.set_ylabel(ylabel)\n",
    "    ax.set_title( 'Average over all data sets of: %s' % (ylabel) )\n",
    "\n",
    "    plt.show()"
   ]
  },
  {
   "cell_type": "code",
   "execution_count": null,
   "id": "de33b470",
   "metadata": {
    "ExecuteTime": {
     "end_time": "2022-04-30T14:51:30.971136Z",
     "start_time": "2022-04-30T14:51:30.971106Z"
    },
    "code_folding": [
     0
    ]
   },
   "outputs": [],
   "source": [
    "bar_plots(\n",
    "    xlabels=comparison_df.columns.levels[0].tolist(),\n",
    "    ylabel='Runtime',\n",
    ")"
   ]
  },
  {
   "cell_type": "code",
   "execution_count": null,
   "id": "4492deaf",
   "metadata": {
    "ExecuteTime": {
     "end_time": "2022-04-30T14:51:30.972188Z",
     "start_time": "2022-04-30T14:51:30.972172Z"
    },
    "code_folding": [
     0
    ]
   },
   "outputs": [],
   "source": [
    "bar_plots(\n",
    "    xlabels=comparison_df.columns.levels[0].tolist(),\n",
    "    ylabel='Average Correlation',\n",
    ")"
   ]
  },
  {
   "cell_type": "code",
   "execution_count": null,
   "id": "36f15ed3",
   "metadata": {
    "ExecuteTime": {
     "end_time": "2022-04-30T14:51:30.973156Z",
     "start_time": "2022-04-30T14:51:30.973141Z"
    },
    "code_folding": [
     0
    ]
   },
   "outputs": [],
   "source": [
    "bar_plots(\n",
    "    xlabels=comparison_df.columns.levels[0].tolist(),\n",
    "    ylabel='Nb mono-sequence clusters',\n",
    ")"
   ]
  },
  {
   "cell_type": "code",
   "execution_count": null,
   "id": "46091bed",
   "metadata": {
    "ExecuteTime": {
     "end_time": "2022-04-30T14:51:30.974090Z",
     "start_time": "2022-04-30T14:51:30.974076Z"
    },
    "code_folding": [
     0
    ]
   },
   "outputs": [],
   "source": [
    "bar_plots(\n",
    "    xlabels=comparison_df.columns.levels[0].tolist(),\n",
    "    ylabel='Nb clusters',\n",
    ")"
   ]
  },
  {
   "cell_type": "code",
   "execution_count": null,
   "id": "6b6cddd9",
   "metadata": {},
   "outputs": [],
   "source": []
  }
 ],
 "metadata": {
  "kernelspec": {
   "display_name": "Python 3 (ipykernel)",
   "language": "python",
   "name": "python3"
  },
  "language_info": {
   "codemirror_mode": {
    "name": "ipython",
    "version": 3
   },
   "file_extension": ".py",
   "mimetype": "text/x-python",
   "name": "python",
   "nbconvert_exporter": "python",
   "pygments_lexer": "ipython3",
   "version": "3.8.0"
  },
  "toc": {
   "base_numbering": 1,
   "nav_menu": {},
   "number_sections": true,
   "sideBar": true,
   "skip_h1_title": false,
   "title_cell": "Table of Contents",
   "title_sidebar": "Contents",
   "toc_cell": false,
   "toc_position": {},
   "toc_section_display": true,
   "toc_window_display": false
  }
 },
 "nbformat": 4,
 "nbformat_minor": 5
}
